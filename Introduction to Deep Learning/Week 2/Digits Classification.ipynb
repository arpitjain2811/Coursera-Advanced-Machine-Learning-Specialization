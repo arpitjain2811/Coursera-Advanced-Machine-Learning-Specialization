{
 "cells": [
  {
   "cell_type": "markdown",
   "metadata": {
    "slideshow": {
     "slide_type": "slide"
    }
   },
   "source": [
    "# MNIST digits classification with TensorFlow"
   ]
  },
  {
   "cell_type": "markdown",
   "metadata": {},
   "source": [
    "<img src=\"images/mnist_sample.png\" style=\"width:30%\">"
   ]
  },
  {
   "cell_type": "code",
   "execution_count": 1,
   "metadata": {},
   "outputs": [
    {
     "name": "stdout",
     "output_type": "stream",
     "text": [
      "We're using TF 1.2.1\n"
     ]
    },
    {
     "data": {
      "text/plain": [
       "<module 'grading_utils' from '/home/jovyan/work/week2/v2/grading_utils.py'>"
      ]
     },
     "execution_count": 1,
     "metadata": {},
     "output_type": "execute_result"
    }
   ],
   "source": [
    "import numpy as np\n",
    "from sklearn.metrics import accuracy_score\n",
    "from matplotlib import pyplot as plt\n",
    "%matplotlib inline\n",
    "import tensorflow as tf\n",
    "print(\"We're using TF\", tf.__version__)\n",
    "\n",
    "import sys\n",
    "sys.path.append(\"../..\")\n",
    "import grading\n",
    "\n",
    "import matplotlib_utils\n",
    "from importlib import reload\n",
    "reload(matplotlib_utils)\n",
    "\n",
    "import grading_utils\n",
    "reload(grading_utils)"
   ]
  },
  {
   "cell_type": "markdown",
   "metadata": {},
   "source": [
    "# Fill in your Coursera token and email\n",
    "To successfully submit your answers to our grader, please fill in your Coursera submission token and email"
   ]
  },
  {
   "cell_type": "code",
   "execution_count": 2,
   "metadata": {
    "collapsed": true
   },
   "outputs": [],
   "source": [
    "grader = grading.Grader(assignment_key=\"XtD7ho3TEeiHQBLWejjYAA\", \n",
    "                        all_parts=[\"9XaAS\", \"vmogZ\", \"RMv95\", \"i8bgs\", \"rE763\"])"
   ]
  },
  {
   "cell_type": "code",
   "execution_count": 40,
   "metadata": {
    "collapsed": true
   },
   "outputs": [],
   "source": [
    "# token expires every 30 min\n",
    "COURSERA_TOKEN = \"Nope\"\n",
    "COURSERA_EMAIL = \"arpit.jain2811@gmail.com\""
   ]
  },
  {
   "cell_type": "markdown",
   "metadata": {},
   "source": [
    "# Look at the data\n",
    "\n",
    "In this task we have 50000 28x28 images of digits from 0 to 9.\n",
    "We will train a classifier on this data."
   ]
  },
  {
   "cell_type": "code",
   "execution_count": 4,
   "metadata": {},
   "outputs": [
    {
     "name": "stderr",
     "output_type": "stream",
     "text": [
      "Using TensorFlow backend.\n"
     ]
    },
    {
     "name": "stdout",
     "output_type": "stream",
     "text": [
      "Downloading data from https://s3.amazonaws.com/img-datasets/mnist.npz\n",
      " 9117696/11490434 [======================>.......] - ETA: 0s"
     ]
    }
   ],
   "source": [
    "import preprocessed_mnist\n",
    "X_train, y_train, X_val, y_val, X_test, y_test = preprocessed_mnist.load_dataset()"
   ]
  },
  {
   "cell_type": "code",
   "execution_count": 5,
   "metadata": {},
   "outputs": [
    {
     "name": "stdout",
     "output_type": "stream",
     "text": [
      "X_train [shape (50000, 28, 28)] sample patch:\n",
      " [[ 0.          0.29803922  0.96470588  0.98823529  0.43921569]\n",
      " [ 0.          0.33333333  0.98823529  0.90196078  0.09803922]\n",
      " [ 0.          0.33333333  0.98823529  0.8745098   0.        ]\n",
      " [ 0.          0.33333333  0.98823529  0.56862745  0.        ]\n",
      " [ 0.          0.3372549   0.99215686  0.88235294  0.        ]]\n",
      "A closeup of a sample patch:\n"
     ]
    },
    {
     "data": {
      "image/png": "[encoded data removed]",
      "text/plain": [
       "<matplotlib.figure.Figure at 0x7efc445976a0>"
      ]
     },
     "metadata": {},
     "output_type": "display_data"
    },
    {
     "name": "stdout",
     "output_type": "stream",
     "text": [
      "And the whole sample:\n"
     ]
    },
    {
     "data": {
      "image/png": "[encoded data removed]",
      "text/plain": [
       "<matplotlib.figure.Figure at 0x7efc4455b048>"
      ]
     },
     "metadata": {},
     "output_type": "display_data"
    },
    {
     "name": "stdout",
     "output_type": "stream",
     "text": [
      "y_train [shape (50000,)] 10 samples:\n",
      " [5 0 4 1 9 2 1 3 1 4]\n"
     ]
    }
   ],
   "source": [
    "# X contains rgb values divided by 255\n",
    "print(\"X_train [shape %s] sample patch:\\n\" % (str(X_train.shape)), X_train[1, 15:20, 5:10])\n",
    "print(\"A closeup of a sample patch:\")\n",
    "plt.imshow(X_train[1, 15:20, 5:10], cmap=\"Greys\")\n",
    "plt.show()\n",
    "print(\"And the whole sample:\")\n",
    "plt.imshow(X_train[1], cmap=\"Greys\")\n",
    "plt.show()\n",
    "print(\"y_train [shape %s] 10 samples:\\n\" % (str(y_train.shape)), y_train[:10])"
   ]
  },
  {
   "cell_type": "markdown",
   "metadata": {},
   "source": [
    "# Linear model\n",
    "\n",
    "Your task is to train a linear classifier $\\vec{x} \\rightarrow y$ with SGD using TensorFlow.\n",
    "\n",
    "You will need to calculate a logit (a linear transformation) $z_k$ for each class: \n",
    "$$z_k = \\vec{x} \\cdot \\vec{w_k} + b_k \\quad k = 0..9$$\n",
    "\n",
    "And transform logits $z_k$ to valid probabilities $p_k$ with softmax: \n",
    "$$p_k = \\frac{e^{z_k}}{\\sum_{i=0}^{9}{e^{z_i}}} \\quad k = 0..9$$\n",
    "\n",
    "We will use a cross-entropy loss to train our multi-class classifier:\n",
    "$$\\text{cross-entropy}(y, p) = -\\sum_{k=0}^{9}{\\log(p_k)[y = k]}$$ \n",
    "\n",
    "where \n",
    "$$\n",
    "[x]=\\begin{cases}\n",
    "       1, \\quad \\text{if $x$ is true} \\\\\n",
    "       0, \\quad \\text{otherwise}\n",
    "    \\end{cases}\n",
    "$$\n",
    "\n",
    "Cross-entropy minimization pushes $p_k$ close to 1 when $y = k$, which is what we want.\n",
    "\n",
    "Here's the plan:\n",
    "* Flatten the images (28x28 -> 784) with `X_train.reshape((X_train.shape[0], -1))` to simplify our linear model implementation\n",
    "* Use a matrix placeholder for flattened `X_train`\n",
    "* Convert `y_train` to one-hot encoded vectors that are needed for cross-entropy\n",
    "* Use a shared variable `W` for all weights (a column $\\vec{w_k}$ per class) and `b` for all biases.\n",
    "* Aim for ~0.93 validation accuracy"
   ]
  },
  {
   "cell_type": "code",
   "execution_count": 19,
   "metadata": {},
   "outputs": [
    {
     "name": "stdout",
     "output_type": "stream",
     "text": [
      "(50000, 784)\n",
      "(10000, 784)\n"
     ]
    }
   ],
   "source": [
    "X_train_flat = X_train.reshape((X_train.shape[0], -1))\n",
    "print(X_train_flat.shape)\n",
    "\n",
    "X_val_flat = X_val.reshape((X_val.shape[0], -1))\n",
    "print(X_val_flat.shape)"
   ]
  },
  {
   "cell_type": "code",
   "execution_count": 20,
   "metadata": {},
   "outputs": [
    {
     "name": "stdout",
     "output_type": "stream",
     "text": [
      "(50000, 10)\n",
      "[[ 0.  0.  0.  0.  0.  1.  0.  0.  0.  0.]\n",
      " [ 1.  0.  0.  0.  0.  0.  0.  0.  0.  0.]\n",
      " [ 0.  0.  0.  0.  1.  0.  0.  0.  0.  0.]] [5 0 4]\n"
     ]
    }
   ],
   "source": [
    "import keras\n",
    "\n",
    "y_train_oh = keras.utils.to_categorical(y_train, 10)\n",
    "y_val_oh = keras.utils.to_categorical(y_val, 10)\n",
    "\n",
    "print(y_train_oh.shape)\n",
    "print(y_train_oh[:3], y_train[:3])"
   ]
  },
  {
   "cell_type": "code",
   "execution_count": 21,
   "metadata": {
    "collapsed": true
   },
   "outputs": [],
   "source": [
    "# run this if you remake your graph\n",
    "tf.reset_default_graph()"
   ]
  },
  {
   "cell_type": "code",
   "execution_count": 22,
   "metadata": {},
   "outputs": [],
   "source": [
    "# Model parameters: W and b\n",
    "W = tf.get_variable(name=\"weights\",shape=[784, 10])\n",
    "b = tf.get_variable(name=\"bias\", shape=[1, 10])"
   ]
  },
  {
   "cell_type": "code",
   "execution_count": 31,
   "metadata": {},
   "outputs": [],
   "source": [
    "# Placeholders for the input data\n",
    "input_X = tf.placeholder(dtype=tf.float32, shape=[None, 784], name=\"input_x\")\n",
    "input_y = tf.placeholder(dtype=tf.float32, shape=[None, 10], name=\"output_y\")"
   ]
  },
  {
   "cell_type": "code",
   "execution_count": 35,
   "metadata": {},
   "outputs": [],
   "source": [
    "# Compute predictions\n",
    "logits = tf.matmul(input_X, W) + b\n",
    "probas = tf.nn.softmax(logits=logits)\n",
    "classes = tf.arg_max(probas, 1)\n",
    "\n",
    "# Loss should be a scalar number: average loss over all the objects with tf.reduce_mean().\n",
    "# Use tf.nn.softmax_cross_entropy_with_logits on top of one-hot encoded input_y and logits.\n",
    "# It is identical to calculating cross-entropy on top of probas, but is more numerically friendly (read the docs).\n",
    "loss = tf.reduce_mean(tf.nn.softmax_cross_entropy_with_logits(logits=logits, labels=input_y))\n",
    "\n",
    "# Use a default tf.train.AdamOptimizer to get an SGD step\n",
    "step = tf.train.AdamOptimizer().minimize(loss)"
   ]
  },
  {
   "cell_type": "code",
   "execution_count": 48,
   "metadata": {
    "scrolled": false
   },
   "outputs": [
    {
     "data": {
      "text/html": [
       "<img src=\"data:image/jpeg;base64,/9j/4AAQSkZJRgABAQAAAQABAAD/2wBDAAIBAQEBAQIBAQECAgICAgQDAgICAgUEBAMEBgUGBgYFBgYGBwkIBgcJBwYGCAsICQoKCgoKBggLDAsKDAkKCgr/2wBDAQICAgICAgUDAwUKBwYHCgoKCgoKCgoKCgoKCgoKCgoKCgoKCgoKCgoKCgoKCgoKCgoKCgoKCgoKCgoKCgoKCgr/wAARCAEgA2ADASIAAhEBAxEB/8QAHwAAAQUBAQEBAQEAAAAAAAAAAAECAwQFBgcICQoL/8QAtRAAAgEDAwIEAwUFBAQAAAF9AQIDAAQRBRIhMUEGE1FhByJxFDKBkaEII0KxwRVS0fAkM2JyggkKFhcYGRolJicoKSo0NTY3ODk6Q0RFRkdISUpTVFVWV1hZWmNkZWZnaGlqc3R1dnd4eXqDhIWGh4iJipKTlJWWl5iZmqKjpKWmp6ipqrKztLW2t7i5usLDxMXGx8jJytLT1NXW19jZ2uHi4%2BTl5ufo6erx8vP09fb3%2BPn6/8QAHwEAAwEBAQEBAQEBAQAAAAAAAAECAwQFBgcICQoL/8QAtREAAgECBAQDBAcFBAQAAQJ3AAECAxEEBSExBhJBUQdhcRMiMoEIFEKRobHBCSMzUvAVYnLRChYkNOEl8RcYGRomJygpKjU2Nzg5OkNERUZHSElKU1RVVldYWVpjZGVmZ2hpanN0dXZ3eHl6goOEhYaHiImKkpOUlZaXmJmaoqOkpaanqKmqsrO0tba3uLm6wsPExcbHyMnK0tPU1dbX2Nna4uPk5ebn6Onq8vP09fb3%2BPn6/9oADAMBAAIRAxEAPwD9/KKKKACiiigAooooAKKKKACiiigAooooAKKKKACiiigAooooAKKKKACiiigAooooAKKKKACiiigAooooAKKKKACiiigAooooAKKKKACiiigAooooAKKKKACiiigAooooAKKKKACiiigAooooAKKKKACiiigAooooAKKKKACiiigAooooAKKKKACiiigAooooAKKKKACiiigAooooAKKKKACiiigAooooAKKKKACiiigAooooAKKKKACiiigAooooAKKKKACiiigAooooAKKKKACiiigAooooAKKKKACiiigAooooAKKKKACiiigAooooAKKKKACiiigAooooAKKKKACiiigAooooAKKKKACvPfjt%2B1J8FP2b5NGsfil4g1Maj4ilnTQNB8OeF9R1zVNR8lVed4bHTbee5kjiVkMkixlI96biu5c%2BhV4N%2B0P8D/j5/wANJ%2BDv2tv2bLLwfrWueH/B2seFNX8KeOdcutLtLywv7mwuxcQXtraXj288U2noCpt3WVJSCUKK1ABpf/BTL9izWLvxPb2nxXv0h8FWsk/jLUrvwXrEFjoIS0iu9l5dy2iwWsrQzRskMjrJIWKorMrKL2n/APBQ/wDZK1HwBrXxFTx/q9vB4f1ay0vVdE1DwNrNrrkV5ebfscC6PNaLqEr3AYGER27eaAxTcFYjy2b9gH4y%2BMf2a/jn8NfGHinwppHin4o/FS38daHc6U1xeWFpeW0OiywQ3IkihkkiN3pRRwoyYHGDuJVaPi79i/8AaV%2BLmr/Ef45fG34S/CjWvFnjWx8KaPp/gKy%2BI2s2Wm6fY6Hcaldw3qa7b6al5DqDXOqTOksVoPJSKNFZiWcgHsviH9vv9mzwv4a8OeI9XvvG3meK0v5NE8P2vwm8SXGuSRWUscV3NJpMWntf28MLzQq8s0CIpmiy37xM%2Bmaz8RPBHhv4e3XxX8T%2BJbbSvDljo76rf6vqrfZYbSySIzPPMZdvlKsYLNvxtAOcYNfGHin9hH9s/WPgX4X8Nay3hfxV470a58RHRfGV/wDHbxNpGr%2BCLW%2BuUktLO11q1sJLzXIYkjhEy3qw/aTbReYCFGPUfjR/wTotfj1%2Bzb4n%2BHHxD%2BOfjW78d%2BMPhfH4Z17xS3jbWho818tpDE2oJoS3y2FuzzQLK3kRRSEPIBIrSM5AOkg/4KUfsZf8K58V/FbWPite6Jo3giysr7xQ/ifwdq%2Bk3NlZXkxhtb37LeWsVxJaSyK6pcxxtC3luQ%2BEYjj/AI3f8FZP2d/hn8ENU%2BMfgPRfFXiqbQfiD4X8L674Y/4QXXbHU7A6zqVrax3T2cmnNdeV5Fw88DeT5d48aW8MhknjB8r1T/gmJ8ZPHfwq8faR4i8DeG9G8Y%2BI9D0fR7DxDqv7RfjPxut3aWusW%2BoTRyf27AfsEZ8likUSzHe%2BGkxknv8A9qH9gz40/GD4g/F/4g%2BBfEPheOTxfB8LbzwlZ6tfXMSvf%2BE/EdzrUsN40dvJ5ENwGt4VljEzrl2MfyKrgHqFh/wUE/Zb1H4m2XwZh8T%2BJo/Fd5oun6xLoF38N9egudO0%2B9adILu/SSyU6dDut5VeS68pYiFEhQum6j4a/wCCmH7FPi3wZ4s%2BIWkfGC4TR/Bfgi68Zaxe6h4S1W0Fx4et0Z5tWsVntUbVLNVQ4nsxPGxZArEugbB0P9kP4ofEP4mfG74g/G9fD2gxfGj4O%2BHfCF1Y%2BE9duNRl0u4tE11Ltlnns7XzYwNViMT7FZikm6OPA3fN37Y37Kn7UOj/ALDHxS%2BJv7TF34AtIfhD%2BxT8QfBHhePwFqF5cNrzXukWxn1G6W5toBYqE0i3CWcbXAVppCZ22oKAPrPw9/wUl/Yy8TaHrHiPT/i1dQWehppU1/JqnhLVbJmtNSu1s7HUIUuLVGubCWdgovoQ9qoDO0qorMPT9E%2BLvw88R/FLX/gvofiH7T4k8LaXp%2Boa/YR2k22zgvmuBa7pinlF3%2ByzHy1cyKoRmVVkjLfJOofsz%2BIPFegeKfjb/wAFIvF/wz8J%2BBbf9nu5%2BHUlx4f8QTLay6beyQyXmq3k17BbpYOTBbCG2QzCAmT/AEiQsuOw/wCCPngP4u2f7I9r8f8A9pDUDf8AxJ%2BL15H4n8V6g9nJbtJCLSCy01fKl%2BeH/iX2lpI0TYKSzTZAYtkA%2BqqKKKACiiigAooooAKKKKACiiigAooooAKKKKACiiigAooooAKKKKACiiigAooooAKKKKACiiigAooooAKKKKACiiigAooooAK8R0j/AIKMfse6ld69Z6n8Urzw83hzw5c%2BINQk8a%2BEdV0GObSbd0jnv7WTUrWBb63R5IlaW2MqAyxjOXXPtN7FczWcsNndCCZ4mWKYx7/LYjhtp64POO9fmJq//BHL9uX4v6t4X1z43fHHQ31vw14P1Cz1DxRqHxW8TeJx4h1v7ZpV9a6idLvoobLSbaS50xfPsLIBRHJtWWQKgUA%2B2X/b/wD2YbX4aN8WNY8QeKtK0ttcg0axs9c%2BGWv2GqanfzIZIYLLTbixS9v2kQM6/Z4ZAyo7AkIxHReA/wBqz4H/ABH1%2By8J%2BHPEOqQ6vf8AhSfxJDpGteFdS0y7TTYbv7JLLLDeW8UkDrP8hhkVZe%2BzbzXk3xO%2BDn7bvxib4e/G3XPBvwq0P4h/Cjx1NrHh/wAM2vjjUr/Rdcs7jSbvTLmO4vn0qGaxmKXskkbpa3AjMQU%2BYJGxV%2BJPwG/bg1/4y%2BHf2mvA%2BjfCu08WX3ww1XwX4x0LUvFepSWGkLcX8N1a39lcJpwk1AxCN1kt5YrQSlxiWLHIB3Gk/wDBRv8AZA8R694F8LeFfiNqus6n8SfBuleLfBunaJ4H1m9nvND1F9lrqMiQWjNa2%2B7HmSTiNbcMpm8oMCdj4a/tufs3fFf4jXPwn8M%2BL9Ws9ft9LudThsvE/gzVtEW/sbeRI57uyl1G1gjv4I3liDy2zSIvmISQGUnyj9hT9hL4sfsw6/8ADjWfHniDw1dnwd%2Byl4R%2BGN%2B%2BkXM8rNq2lvM1zNF5kEe61bemxmKu235o0wK8a%2BGn/BKv9sbxP8UfC/ib9qb4w2eqRaf4A8V%2BF/GniaD4v%2BJNavPEUur2KW39p2umX0Men6EcqWNpaKUXKgTOI1WgD6l8J/8ABRf9kfxrosfirQfHeuf2Hcarpen6f4lvfh/rdrpWoy6lex2VlJaX09mlteQS3M0UYuIJHhBlQs4VgT6X4W%2BLvw88a/EDxT8LvC/iH7XrnguSzj8T2iWkwWxkuoPtEEZlZBG7tCVkKIzMiyRlgokTd8w%2BOPAnxF8K/wDBPbxp8CP%2BChnif4VeCPAWg/DSLQLb4meHfFt2GadI0trXUntLqzgTTZlmFvJDBHcXTGcoiOTtDdr/AMEr/h98WPDf7ImlfFX9oqwS3%2BJ3xYvpfHXxEhW3aL7Pf36xmG02N8yfZbGOys9pyQLXBoA%2BjaKKKACiiigAooooAKKKKACiiigAooooAKKKKACiiigAooooAKKKKACiiigAooooAKKKKACiiigAooooAKKKKACiiigAooooAKK5z4u%2BI/iB4R%2BG%2BreJfhZ4J03xHr9nbiTT9G1fXm0y2uTuXd5l0lvcNEqpubIhkJ24C81y3wp%2BOXjb43/si%2BD/ANo74cfDOxk1zxp4F0nxBpvhTU/EbW9vDJe2sNx9nlvVtnYJGJSDKsDEhMiPJC0AemV4v8evH/7Rf/DRfgX4EfAXxn4K8Ppr/grxLr2r6n4v8F3etEnTrvQ7eGGGO31Kx8sN/akrMzM%2BfLQALyTtfsw/H7xB8dtM8XWHjXwFZeHvEPgXxpP4a8QWmj682qafLcx2trd%2BZa3bW9u08fl3kSNuhjZJo5oyuY8nmfiLrS2f/BSr4Q6LIoxe/BP4hsjd90ereDTj8mY/hSbS3LhCVR2j2b%2B7Vl7/AIQf/goX/wBHQfBn/wAMPq3/AM1FH/CD/wDBQv8A6Og%2BDP8A4YfVv/mor2aimQeM/wDCD/8ABQv/AKOg%2BDP/AIYfVv8A5qKP%2BEH/AOChf/R0HwZ/8MPq3/zUV7NRQB4z/wAIP/wUL/6Og%2BDP/hh9W/8Amoo/4Qf/AIKF/wDR0HwZ/wDDD6t/81FezUUAeM/8IP8A8FC/%2BjoPgz/4YfVv/moo/wCEH/4KF/8AR0HwZ/8ADD6t/wDNRXs1FAHjP/CD/wDBQv8A6Og%2BDP8A4YfVv/moo/4Qf/goX/0dB8Gf/DD6t/8ANRXs1FAHjP8Awg//AAUL/wCjoPgz/wCGH1b/AOaij/hB/wDgoX/0dB8Gf/DD6t/81FezUUAeM/8ACD/8FC/%2BjoPgz/4YfVv/AJqKP%2BEH/wCChf8A0dB8Gf8Aww%2Brf/NRXs1ZvjGea18I6rdW0rJJHps7RupwVYRsQR75oA8r/wCEH/4KF/8AR0HwZ/8ADD6t/wDNRR/wg/8AwUL/AOjoPgz/AOGH1b/5qKveN/2gP2Gvhb4nufAfxL%2BOHwp8P63YCMXuka/4n021vIN8ayJ5kc0gdSyOrgsOVYHkEGsn/hr/AP4Jwf8AR0XwR/8AC20f/wCO1zSxuChJxlVimv70f/kj3KPDHE%2BIpRq0sBXlGSTTVCu009U01Raaa2abT6Nlj/hB/wDgoX/0dB8Gf/DD6t/81FH/AAg//BQv/o6D4M/%2BGH1b/wCaiq//AA1//wAE4P8Ao6L4I/8AhbaP/wDHa9K8V6R8PvCHhbUvFmoeB7Sa30vT5rueKy0T7RM6RoXZY4oo2eRyFICIrMxwACSBWlLEUK9/ZTUrdmn%2BTZx47Kc2yvl%2Bu4apR5r29pTqU723tzwhe11e17XV7XR57/wg/wDwUL/6Og%2BDP/hh9W/%2Baij/AIQf/goX/wBHQfBn/wAMPq3/AM1FcZ8DP2%2BP2Ovjd4X%2BGF9a%2BBde0rX/AIq%2BHLfWfD/hW8%2BFOrtdLbv9jWWdythtFpFJfW6NfEi1IfeJdmWG9P8AtX/ssXuh6hqGgaLDa3uk694c07UdL8aeBdW0C4jXWdVi02znWG607z5I5ZnkSKVYjA8sTI80KrJLHqeeav8Awg//AAUL/wCjoPgz/wCGH1b/AOaij/hB/wDgoX/0dB8Gf/DD6t/81FUvh5%2B1v%2BxD8UvG978P/CGt2JvrBtaWW51PwXe2FhK%2BkXZtNTSG9urWO2uGtplKyrFK5QDeRs%2BatT9oT4meCvhF8OdE8UfD/wCFfh/xbrHi/wAQ6bong3TftMVpaahdXrjZJJdpDN5VukIluHkSOVvLibYjsVUgEH/CD/8ABQv/AKOg%2BDP/AIYfVv8A5qKP%2BEH/AOChf/R0HwZ/8MPq3/zUVleE/wBo/wCFEn7KPjL9p/4p/CPT/Dw%2BG8XiMePNEs0ivvsU2iSXKXggmMUX2iNhbNLE5SNnjkjLJGxZF5W1/aS%2BJ0fg34j6R4g/Ys8Gaf8AEz4f%2BFtK8THwa3jkPp95pGofaxFK2ojSw8MyNp2oxvELaQB7YBXdZA4AO/8A%2BEH/AOChf/R0HwZ/8MPq3/zUUf8ACD/8FC/%2BjoPgz/4YfVv/AJqK4Hx3%2B1hPaeC/h/qPwe/ZO0HxR4j8Z/C27%2BIF9oF/4gj06LTtJtIbFpoo7gWU32i7eXUIIoY2jijk2yM8sIXlPFv7ZHgPw/8AEn4V6Po3wq%2BHeq%2BHPi9/ZT%2BE4oPF6p4rube%2BjDm%2Bj0M2GJbOBWEk8wu/3USSOV%2BTawB3/wDwg/8AwUL/AOjoPgz/AOGH1b/5qKP%2BEH/4KF/9HQfBn/ww%2Brf/ADUV5XpP7fXw2019R8ffFj9nnR/D3w2l8O%2BL9b8J%2BL7XUEvbrUbTw5KVvWubL7LGLQzQrJc24SaffFE3meQ%2BIz0Hwy/aw8F%2BJfgF4j%2BPHjf4XfDRk0m7gsdL0D4b%2BPLbxNd3WpTlI4NInKWdvFbak9xLBb%2BQrzIHlH70qN1AHaf8IP8A8FC/%2BjoPgz/4YfVv/moo/wCEH/4KF/8AR0HwZ/8ADD6t/wDNRXkni79sf4g6d%2BwPov7dfg79jf4eX1vceDZNZ17wpq3xBmtLmG7yEg06xki0Wdb6WaY%2BSjSC2Bd4xjDEr1B/as8H3/7VVv8Asr6P8NvhXb6vp39nweLIfEXxBgsNQF7cWqXkttpNiLGSTVjBbSwyyOzWyYnjCkneEAOz/wCEH/4KF/8AR0HwZ/8ADD6t/wDNRR/wg/8AwUL/AOjoPgz/AOGH1b/5qK4n9n39q/wp%2B01428ZaN8KPhf8ACu%2B0/wAPW%2BprpFivxDgbxFeT2t0bWKS70pLFhp1ncvHI8Vw08j%2BWYWaEGQqnMeI/27LDwb%2Bxtp37TPjb9nX4c6BrM/xb1HwDq%2Bk6/wCP1tND0u5s/Ed9oct5Jq76ZuFvvsmmDNaKcSBSBjcQD13/AIQf/goX/wBHQfBn/wAMPq3/AM1FH/CD/wDBQv8A6Og%2BDP8A4YfVv/morz39pb9rK3/Zs/Z18P8A7Rur/Cf4K6npuo6a1xd2lv8AFURtqtyY/Nt7Dw%2B50kjXLq4RZPJiP2UyOEUcMWXUP7Vnw71z9ruf9lfwT4B%2BGYm0a7tLPxF/wlfjeDS9Ze6msYdQaHTNKFnM%2BoGG0ubWWVmlgVfPCqXKPtAOu/4Qf/goX/0dB8Gf/DD6t/8ANRR/wg//AAUL/wCjoPgz/wCGH1b/AOaivNfgX%2B2bp/xx8Sab4YsP2b/BenXXjvwPrvif4TQXHi1ZJdVt9LvLa0li1RF0/OlSGS8tTiL7ZsHnhsPDsa38Bf2nfEv7T3w48R%2BIPgT%2Bzp8JvEuseG/Gi6HNf6R8TTc%2BFdQi%2BxRXUlzZ6zDpDvcGJplt5IltPknV0LYQtQB3/wDwg/8AwUL/AOjoPgz/AOGH1b/5qKoeB/HH7Vng79qzw58Efjd8R/h74m0bxN8PfEOuQzeFfh5faLdWl1pt9oluis9xq98ksbpqkpKhEYNEhDYyDp/Az4k%2BC/2hP2XdO/aB0D4c2mgT6po9zcR28PlSm2uIHliZobiNVE0RkiLRzKFEsZR9oDYEfjj/AJSF/C//ALIz48/9O3hCgD2aiiigArzb9rL9pXSv2Rvgjq3x68R/C/xX4r0nQYZLnWrTwfDZvc2dnHFJNNduLy5t0MUaRnIVy5JUKjE4r0mvGf8AgoJ8J/jV8fP2P/HnwG%2BAmjeFrvXvG/hu90LzvF/iO50y0sobq2lia58y3srt5HQspEXlqGBP7xcDIB2Hx6%2BOnh/4A%2BDrTxPq/hrWNevdV1u00fw/4c8PRwNfatf3L7YreH7RLDCpwHkZ5ZY40jid2dQpNeVeIf8AgpZ8J9H8DaT4w0b4S%2BP9evLzTfEGoa74Z0bTbJ9S8N2mhXa2WsS3qS3aRk210whMdtJPLO2TbpOoLDV%2BNnwx/aX%2BM3grwl4oHg7wLo/jbwH4x0zxPomkjxpeXWmX86Q3FteWc13/AGZHLAht7qdY51t5DvKO0QClD5FL%2Bwj%2B1f4M0P8A4TP4Zax8P7rxt4s0Hx1pvji21rV72HTdMk8R6wNVjubKSOzkkuxYtug8mSO3%2B1qQ5ktiNpAPsnQ9b0jxNoln4k0DUIruw1C1jubK7gbck0MihkdT3BUgg%2Bhr57%2BE3ir9u/466Pr3jvwv8b/hJoGl2/xC8VaHpelX/wAH9Uv7iK10vXr/AEyFpbhPEUCyyPHZq7MsUa7nICgAV69oXwV8L6N8DNK%2BAB1PWBpGl%2BHLTRo7vTdbudOvTDbwpErJc2ckU0LkIPmjdTyea8m/Yc8O6f4V/ZSvfB%2BmXN/LZ2nxp8cWKSalqtxe3MsP/CeatGRLcXDvNO7JkNJI7O5JLMSSaAOj/wCEH/4KF/8AR0HwZ/8ADD6t/wDNRR/wg/8AwUL/AOjoPgz/AOGH1b/5qKfr/wC1B/wT98Ka7e%2BFvFP7RHwc03U9Nu5LXUdO1DxdpUM9rPGxSSKSN5QyOrAqysAQQQRkVU/4a/8A%2BCcH/R0XwR/8LbR//jtcrx2BTs6sP/A4/wDyR70OFeKakFOGX4hppNNUK7TT1TTVBpppppptNNNNpplj/hB/%2BChf/R0HwZ/8MPq3/wA1FH/CD/8ABQv/AKOg%2BDP/AIYfVv8A5qKfoH7UH/BP3xXrtl4W8LftEfBzUtT1K7jtdO07T/FulTT3U8jBI4o40lLO7MQqqoJJIAGTV79qv4l/Cr9lD9m/xr%2B0l4p%2BFy6tp/grw9cardabpGiCa4uViXOxFjjYjJxlyNqLl3KqrMNaVehXTdOalbs0/wAmzz8dleZ5XOMMbh6lJyV0qkJ021tdKcINq%2Bl0mr6XvoZ3/CD/APBQv/o6D4M/%2BGH1b/5qKP8AhB/%2BChf/AEdB8Gf/AAw%2Brf8AzUVQ0n9rP9j/AFzxvL8NdL8Na/L4htvDi69qGi/8Ka11brT7B47t4pbqNtPDWrS/YblYo5gkkzxiONXd0VnaZ%2B05%2BzB4mk8O/wDCK6ZYIdZ8dTeFb2w8S%2BEtR0fUbG%2Bj0a61cwtZXNgJklNrbrMq3C28bwyeYsrMYo5tThLv/CD/APBQv/o6D4M/%2BGH1b/5qKP8AhB/%2BChf/AEdB8Gf/AAw%2Brf8AzUVQ%2BCn7X/7C/wC0Fo03iP4beJtL/s6Lw/p%2Bupf%2BIvCN3osFzpd8zLa3sEmo20C3NvI6lBLEXUPhCQxAq7%2B0b8RG%2BFev%2BD/hp8IPgB4a8XeM/G17eJpWl61qq6RYwWtnatcXNzPdJZ3ToB%2B5iVVhctJcR52IHdQB3/CD/wDBQv8A6Og%2BDP8A4YfVv/moo/4Qf/goX/0dB8Gf/DD6t/8ANRXP69%2B1H8Kbb9ifQP2yPDXwWs7qPxRbaAmk%2BHtSEFoYL7Vr60sILe7uAki28cVzdos8wWQRpHI4VwoB4q1/bXOvanbfCLwh%2BzL4Cu/ifF491fwrrui3XjgQ6DYXOnaZBqkxXVRpjyzM1reWhWP7GrhnmDhBA7UAeq/8IP8A8FC/%2BjoPgz/4YfVv/moo/wCEH/4KF/8AR0HwZ/8ADD6t/wDNRXlfjH9szWLr4E/DD9pz4D/sr%2BAPFXg74oHwzbaTBq/jh9O1cX2sXkVv9njtodIuoJlt1l82SX7So2QznAVA76Ggftr/AA9ufjTaeDvF/wAEPCujeD9a%2BIPiLwT4d8Rya9HJqc%2BsaJaXt3eG4037IotrUxadetHMLiRmAty0SC4QgA9E/wCEH/4KF/8AR0HwZ/8ADD6t/wDNRR/wg/8AwUL/AOjoPgz/AOGH1b/5qK5z9iT9pHwX%2B2ZoGoeOtI%2BHnwytdEFraXOmWvh/xxb6zrFpHcK8iQ6vZR2caaXc%2BX5bGAT3GGLqWBjy3ungwbNDMCk7Ib67iiBOdqJcyKq/QKAB7CgDy7/hB/8AgoX/ANHQfBn/AMMPq3/zUUf8IP8A8FC/%2BjoPgz/4YfVv/mor2aigDxn/AIQf/goX/wBHQfBn/wAMPq3/AM1FH/CD/wDBQv8A6Og%2BDP8A4YfVv/mor2aigDxn/hB/%2BChf/R0HwZ/8MPq3/wA1FH/CD/8ABQv/AKOg%2BDP/AIYfVv8A5qK9mooA8Z/4Qf8A4KF/9HQfBn/ww%2Brf/NRR/wAIP/wUL/6Og%2BDP/hh9W/8Amor2aigDxn/hB/8AgoX/ANHQfBn/AMMPq3/zUUf8IP8A8FC/%2BjoPgz/4YfVv/mor2aigDxn/AIQf/goX/wBHQfBn/wAMPq3/AM1FH/CD/wDBQv8A6Og%2BDP8A4YfVv/mor2aigDxn/hB/%2BChf/R0HwZ/8MPq3/wA1FH/CD/8ABQv/AKOg%2BDP/AIYfVv8A5qK9mooA8Z/4Qf8A4KF/9HQfBn/ww%2Brf/NRR/wAIP/wUL/6Og%2BDP/hh9W/8Amor1fxL4r8L%2BDNKfXfGHiSw0qxi/1t5qV4kESfV3IA/OvBviH/wVj/4J0fDGeS18SftZeF7mWI4aPQJJdVOfQfYklBNc2IxuDwivXqRh/ikl%2BbX5Ht5Rw1xHxBPlyvBVsQ/%2BnVKpU%2B9whJL5tHRf8IP/AMFC/wDo6D4M/wDhh9W/%2Baij/hB/%2BChf/R0HwZ/8MPq3/wA1FeYf8PivgNrg3/Cr9nz44%2BOo2/1M3hL4W3MyS/7pmaOl/wCHknx/1r5/BX/BLH43zo3%2BrOu2drppP1Ekjba4v7cyp/DU5v8ADGcvyg1%2BJ9L/AMQs49h/Hwfsv%2BvtXD0n81UxMZL5xR6d/wAIP/wUL/6Og%2BDP/hh9W/8Amoo/4Qf/AIKF/wDR0HwZ/wDDD6t/81FeY/8ADaf/AAUg1b/kV/8AgkVqzKej6v8AGHSLPHuVZCfwpf8Ahor/AIK5X/zWn/BOXwbYA9Fvvi9bSlfr5cfP4Uf2zhX8MKj9KVT9YoP%2BIa5/H%2BLiMHD/ABY7B3%2B6NabPTf8AhB/%2BChf/AEdB8Gf/AAw%2Brf8AzUUf8IP/AMFC/wDo6D4M/wDhh9W/%2BaivMv8Ahd3/AAWFj%2Bd/2HfhpID/AAJ8S8EfiUxR/wAL8/4K%2BdB%2BwH4A%2Bv8AwtSP/wCIo/tih/z6q/8AgqYf8Q5zXpjsD/4XYf8AzR6b/wAIP/wUL/6Og%2BDP/hh9W/8Amoq3%2Byt8RvjT4w1j4oeBPjpr/hfVtU8A/EKLQ7PVfCfhq50m3urWXQdH1NWe3uL28ZZFk1GVCwl2lY0O1TnPk/8Awu3/AILDXXEH7EHwztfe5%2BJRf/0BK6D/AIJ2at8Zdc1z486p%2B0F4S0fQvF8vxmg/tfStAv2urSDHhHw2IvLlYAtmERsfRmYdq6cNj6eKm4xhNaXvKEor7318jx874UxmRYVV62Jw1RN8vLRxNKtLZu7jT1UdNZXtdpdT6TooortPlwooooAKKKKACiiigAooooAKKKKACiiigAooooAKKKKACiiigDA%2BKOiePPEvw%2B1XQPhl4p0jRNdvLUxWGq69oUup2luSQGaS2iubV5Rs3AATR4JByQCp8a%2BFv7L37Vnwo/Yo0z9lLwz%2B1d4Vstc8PfDu38LeGPHum/CyZJLB7eGO2gvmtJtWmSWRYI%2BULhTLiThB5J%2BhKKAPMv2RvgV4n/Zt%2BCtl8H/EviTwzqo0y4lNld%2BGPDF3paSRyYkkkuRd6hfy3N3LO080t0826V5izLu3O/hvxW%2BH3ws%2BGX/BY34D%2BK/BHw28P6LrXjn4a/EdfE%2Br6Vo0FvdaxJDL4akje6ljUPcMgD7TIWK72xjJr6/r42/bD1c6X/wWN/YzgLYW%2B8MfFC3Y/wDbhozgfmgrmxk/Z0ebzj%2BMor9T3OHsP9bzP2X/AE7rP/wGhWl/7afZNFFFdJ4YUUUUAFFFFABRRRQAUUUUAFFFFABWX45/5EnWP%2BwVcf8Aotq1Ky/HP/Ik6x/2Crj/ANFtQByHjn9kX9lD4oeKbrxz8S/2Yfh54i1u%2B2fbdY13wVYXd1cbEWNN8ssTO%2B1EVBknCqAOAKyf%2BGB/2Ff%2BjLPhL/4bnTP/AIxXI/HP/gq1%2BwN%2BzX8U9U%2BCnxr%2BPX9i%2BJtF8j%2B09M/4RbVbnyfOgjnj/eQWrxtmKWNvlY43YOCCByX/AA/N/wCCWX/R0X/lk65/8hV4dbGcNRqyjVnR5k3e/s7363ur3731NF4kYjAr6ss6nTUPd5ViqkVG2nLyqulG21kkltZHrf8AwwP%2Bwr/0ZZ8Jf/Dc6Z/8Yr1S%2Bs4dRsZtPuc%2BXPE0cm04O1hg/wA6%2BUP%2BH5v/AASy/wCjov8Ayydc/wDkKvqjxBqs2haDfa3b6NealJZ2cs6adp6obi6KIWEUQdlUu2Nq7mUZIyQOa7MDXyqtzfUpQdrX5OX5X5UvO1yZcU1eJfjx8sT7PvWnV5ebtzVKnLe3S17dbafPf7N/7CPjP4KjwMvi/wCPFrrTeAPg3c/DjRbnQvCb6XO2ns%2BnfZ7p3e9uR9qjXTxuZQqO8oZUiCbG8r%2BDf/BGp/hal/JcfGjwolxfW/gGC5m8K/CpdJN%2B3hnxEmtfbb5vt80l7f3uwwzXLuMEiQIcGNvY7/8A4KQfAkeArn4k%2BGtJ1fV9KtPhtoHje5vBf6Vp0EOnazPLFYxyXOp31tbwzsIJ5GSSVVVYvvFnjR/O/FP/AAVY8Ka14P0j4zfCNraXwNffBD4keMNRu5dOi1S%2BtNR8MaromnmCNbbUEtbqMSX18GEdz5c5ihaK5WM739Ak9E%2BH/wCw7qHw5v8AwTrGjfFeCW78E%2BKvHWuWpuPDpMdzJ4iv728WN1W5BC27XYUkNmYR5/dbvl7f9oT4E%2BI/jj8OdE0rTvH1nofi7wz4h03X9B8R/wBhtc2kOpWjgkyWf2hGkt5UaaF4hOriOdtsquA48x8d/wDBQO7X9oPwP8HPhh8JdcudE1r4w3HgfXfHmp2EB0mW5ttI1C8urW0Md2LlZ4prRIzLLbi3JjnjV2cDHof7Sf7Q2pfCv9mq5%2BMvw80E3OqajeaTpfhmz8R6dc2Srf6pqNtpto11BKsc8caT3cTyIQj7FYDacEAGB4d/YvYfs2%2BJv2aPiL8QbbXdL%2BItn4q/4WZqEGhPaT6pda5LM872n%2BkutlDGtxNEkTi4by1hBlLI7y4%2Bl/seftAxeD/iTrXiT9pfw3q/xM%2BIPhPSvC48YXHw3mj02x0iw%2B1%2BWjaamqCSadjqOpSNKLqNfNuUIjCReU3Vfs2fHH4heJrT4m%2BDvjrNodz4h%2BFPjE6LrGs%2BF9KnsrLVIX0jT9XhuYrWe4uJLc%2BRqKRNG00n7yB2DbWUD57g/wCCjP7UXhn4IzfE/wAd%2BEvBF3feLvglZ/ErwHZaRpt3ENGtpbu0huLC%2BV7t21Oa3j1G0kVrc2zXbrLDHFGzRsQD0Cb9gn49R/C/wBo2iftS%2BHtM8a%2BDPhvqXgG%2B8VWfw0mNnqGhXgsxujsZNVZre%2Bi/s%2B1eO4a4liDmYtbssgROo8VfscePPEEXgf4U6Z8YdD0z4U%2BAdX8Nahonhq28FStritoklvNbQ/2s1/5SxPLaxiQCzDvC8sO8CQtXkuoft0/tW6l%2Bw98UP2hfBF74EOvfCzxjd2tzceIvh1rGlrrGl29hb3LrJolzfx3%2Bj3bSXIjVbqVsxRrciNo7iJa2/wBuz9vP40/s0fHKD4f%2BA9G0I6XbeF9J1eRtU8JajqS6pLd6tLZS21xqFpcR2/hqGOONHW/1BXglaZwgJtpQQDTtv%2BCYlhrttq3w4%2BKvxfXXPhwPDPjHQvCPhWy8OmzvNLtPEkpN4Li9NzKt20MLyW1sVgg2RSN5vnviQWvCf/BM/wAN%2BIdXvfFn7TnxEfxLrTQeHrfRbr4cLqfgePTI9Gt9Tgs5UOnak05uDHq96kj%2BesbJ5KLCghWtnxr8Y/2mvBH7b/gz4NP8RPh3f%2BCvEGk694i8Q2B8DXtrqWh6FYQwxJK%2BotqzwNI17eWa5a0RWiW4IAMZI8ul/wCCkfx4v/CPxx%2BJGjfDrw/BonhTR/C2sfC%2BO6sbp7y50nVru6tft97AJla6do7b7bBZQCGeRJorb/XvwAei/DX/AIJ1aT8OP2aPhP8Astx/FzVNS8P/AA78aWHiHXX1b7VeS%2BImsZZbu1t911dyvaxpqAsboKGkQCz8tUUSb0k%2BKX7AD%2BPvjtqvxL0P4laZpHh/xZ4y8J%2BKvG2kP4S%2B0apfan4entpbE2uo/aUFpCws7WOWNreZiiy%2BW8TTMw8msP8AgpD8br74e6Vc%2BIfG3w58GJc/EzWvDWofFHxz4G1XTNLtI7OwjureO70S71CC80q8uZJGijhu7pGZIBMquLmCM4nib/gsX4r0/wAC%2BFPjbep4O8JeH7z4XeGfF8/hbxLpl5Nq3i6S/u7iDU7HR5RPAI3sEtxI5eC4Yi4jaWO2j/eMAe2fB3/gn5rXwW%2BJGneKPDHxY0RdC8HJ4rf4b6HD4HaKbTp9evReXH9oXK3v/ExhilGEijjtSyhTI8kiLKL/AMAv2Yv2ufgN8FtW%2BHVh%2B0x8N9S1u%2B%2BIWueJ7HWp/g5fJa2/9r6tf6re272v9vl5MXF%2B6wyLPHsjjVXWUkvWL8Pf2xviZH%2B1B46%2BHnx18U6P4Z0HRdY1WHwb4cuvhJrdnd%2BIbCzsorlrq11y4u/sF86j7Qz29vCXCQsTtCs1ebeB/wDgq3r11%2Byjr/7Tfivxh4PuL%2B90Xwxf%2BF/BMfgPW9KbRl17UYdPs5ri9upXGu2ST3UKveWEEcbGCYJuLoAAenah%2Bwh8XrL9lWX9kXwN%2B0N4asfDniKw8QQ%2BO7rVPhm15cXUms3t1eXj6aqajFDpyK97OsEUsd2kSLCCHEZDy%2BKf%2BCdiar8Yrvxj4c%2BKVnYeGNe8a%2BE/F3i7S7rwubrWb/VvDy2aWLQ6qbpfIhdNOs0mja3lZ1FwFkj%2B0PjA8eftc/tBaT%2Bx3e/Hr4YfFr4deJda8K%2BMoLDxgupfCjW9E2QNcW8T2LaXd6kLvT70LcxyB55GBR0cQlXXPa/tm/FX9qb4Q%2BKPAh%2BB3jnwAYfGvjvRfDFh4V8R%2BAr69vbmSad5tQuEvYNWt0jWDTILy6CG2c5tCCxD/KAUvBX7CWu%2BDvj34n/ad0/xP8NtN8aXui6pp3he%2B8L/AAiGmwxG%2BubeeW71dV1B5dZuv9Dtk8wS2wCibaqGYkYvj39gz9ovxt8NPH2i237XGh6R4q%2BKPizT7/xzq2lfDm6g0y60m1s4rR9Mt7OPV1ubZriOGNJrsXrTFC6J5f7oxbWtftLfHTwV%2B2zYfs76rd6Jrei%2BINJ1a/soYvhvq2kSaXHbW6TQBdWubuSy1uViwjkt7SOOWMMZGVVjYHy74bft4ftX%2BKf2JtY%2BKV5caHqHxh0/T/CN1rHw6t/2f/FGm3vhZdUu4IbtptJuL977VYoka8MUtt5SSmxlCl9rBQD6p8O%2BE9d8B/s/r4J8SXXh6W60nw3LaA%2BE/Dr6RpqRRxMsUdvZvcXBt40jCIE81wNvGAQo5Dxx/wApC/hf/wBkZ8ef%2BnbwhV/4LfFU/GP9mi88Y3XxL0bxVfLb6naanqOieEL3w%2BkVzC8sb20um39xPdWU8WAkkUz79yltqBgooeOP%2BUhfwv8A%2ByM%2BPP8A07eEKAPZqKKKACiiigAooooAK8F/Y/8A%2BTetX/7L345/9WBqte9V4L%2Bx/wD8m9av/wBl78c/%2BrA1WgDrNf8A2Jv2MvFeu3vinxT%2ByP8ADHUtT1K7kutR1HUPAOnTT3U8jF5JZJHhLO7MSzMxJJJJOTVT/hgf9hX/AKMs%2BEv/AIbnTP8A4xXnfj//AILKf8E3Phf471v4aeOv2jvsOt%2BHdXudM1iy/wCEQ1iX7PdW8rRSx747Rkfa6MNysVOMgkc1kf8AD83/AIJZf9HRf%2BWTrn/yFXgzxvDCm1KdG93e/s736303ve5p/wARNxND90s8nHl0t9bqq1tLW%2BsK1rWtZWtaytZezaB%2BxN%2Bxl4U12y8U%2BFv2R/hjpup6bdx3Wnajp/gHToZ7WeNg8csciQhkdWAZWUgggEHIrW/aa%2BCdl%2B0n%2Bzp47/Z71DX5dJh8b%2BEdQ0N9VggEr2f2q3eETBCQHKFw20kBtuMjOa8a8A/8FlP%2BCbnxQ8d6L8NPAv7R327W/EWr22maPZf8IhrEX2i6uJViij3yWiom53UbmYKM5JA5r3H46/GHw5%2Bz78HvEfxv8ZaZqN1o3hXSpdT1lNKhSSeKziG6eYK7oGWOMPKwznbG20M2FPoYGtltaEng5QaT15OW1/PlS1t3JlxJU4k/ezxrxPJpd1ZVeW%2BtryqVLX3smr726nkfiL9ib4heP9B%2BLsvj34%2B2sXiT4t/DvTfDN9rXhPwrNpsOmyWY1ELcxRSX08jI4vwGiMwOImxIPMGzhvgj/wAEpovhF4ih8TQ/EnwhYbfi4PHL6D4C%2BF8egaRAw8I3nhw2dtapeSmEN9qF20rPIzOjKR84dPRfjP8A8FEPg78FtL8Xa5qnhvU9QsfBXi2z8N6xqI8QaDpVo9/cabFqISG41fUrOGTZBPAGAffvmCor7JCnI2v/AAUd0nxT4%2Bjv/BNxaXHgLXPBnwk13wjqsWhST3l1/wAJh4g1bTSsyPdwrHGIrOzKsAXgaSZ2S5wsFdxJ1fwN/Yo8Q/AKPwJd%2BEfi5ZXN/wCBvgbpXw6t5dQ8Lu0N39jkgY3zRpdqy71hYCEOdhcHzG27W6z9o34BeOPip4g8H/Ez4P8AxP07wj4z8E3t4%2BlaprXhp9XsZ7W8tWt7m2ntUurV3B/cyqyzIVkt4870Lo3mHg3/AIKNH4mftFeD/BHhD4P%2BJrLwD4j8FeLNftPFmqaEs7eIYdJuNOhjn0uOyuZpzG/2qVvKnt0nmDQNChBOfSf2pPjR8QPh7o3gXwt8HE0iHxR8SfG9v4d0LUPE%2Blz3FlpubK81Ce5ntY5reWbba2FwFiEsRMjICyjNAFbwv%2By7rHw8/Zhsv2WvBPirw1f6JpfgW00GzPjjwY2rJe3CArcXN/Cl3BHdRTrjdbqIcMznzCrKiecaZ/wTXt/C37Pl98HfCk3wglvvEPjhvE/ic%2BJPgdFf%2BHxc/Y4rOEadoy6hElgYLe2s44maacgQMXEjSMw6XQP2tPilc/sG%2BN/2jn%2BG9prfjnwHD4v0%2B78PaHFOLbVtV0G/v9Pc26fvZlhnlsTKkYMsqpKEzI455D4B/tkfEv8AaF0X4k%2BD/An7THwf1DVfhzLpmo3PxP0fwRe3fhq90q7tJpWVbVdZVlmhkt7hHlW9kQeXyivvSMA9E8K/sReFvBcfwM8L6H4wuX8LfAywuDpWjXtmsk2qamdOOnW%2BoTTKyqrRwXGoFkEZDyXiuDH5IDZGufsD%2BHvH/wC1hD%2B0l8TV8BXMGl3F3caRbeHvhsunazdSz6bPpv8AxNNWN3K%2BoRx2t3dpHGsVuoMqM24xIR4qn/BSr49ab8Ifg9D8SfEPg3wh4v8AiD8OdU8feIPED/CjXtYsdM0SK5txZq2kWN8bm2Y217A9zczXfkWrQSB/9agX2X4wfGb9p3wt%2B0n8JPBnwz%2BJXw31jwx8S/EJEmjN4FvZL%2B10O10x7u/1FNSj1cQuplW3hiP2QhW1C3DbwGdgCX9kD9hjVf2YvEem6xr3xU07X7fwt8NdP8A%2BC7TSPCI0k2%2BiWcpkiN832mYXt39wGVFt4hiQpAnmtXuXg/8A5BM3/YVvv/SuWtSsvwf/AMgmb/sK33/pXLQBqUUUUAFFFRX1/Y6XZy6jqd7Fb28KF5p55AiRqOpZjwB7mjYaTk7JXZLRXzx8WP8Agq3%2BwF8H9T/4R/W/2jNI1fVWcpHpPhGKXWJ3k/55/wChpIqt7Oy1xz/8FM/i/wDExfsn7LH/AATi%2BL3iiWU4tdT8YWMPhvTJM/xrcXLNuUdfugnpxXmVM5yunNwVVSkukbzf3QUvzR9xhPDXjrF4eOIlgZ0aUtVUruGHhbvzYidFNeajI%2BuKK%2BRo/hv/AMFifje32zxl%2B0R8N/grYSf6vTfBfhc6/fqh6rLLekRB%2B26I474p/wDw6ou/HH779oj9vT46eNd/%2Bv02LxeNL02T1/0a3Tj8H6VH9oY2r/Bwsmu83GC%2B5uUvwR0Pg/hrA6ZnntCMlvHD06%2BKkvLmhGjRv5qpJefU%2BkPiB8avg58J7c3fxT%2BLPhrw1EF3GTX9dt7NceuZXWvCvG3/AAWJ/wCCdHgu%2B/sdP2jbPXb9jthsfCmlXmqNM3or20Txn8WFW/h//wAEiv8AgnP8OrgX2nfsuaHql0W3S3Piia41ZpW7swvJJFJP0A9q908E/DL4b/DWx/sz4c/D7Q9AtsY%2Bz6JpMNomPTbEqij/AIXav/Pun/4HN/8AtiC/hXgdljcW/XD4WL%2B5Ymp%2BP3M%2BZf8Ah6lrHjT918Bf%2BCffx58W7v8AU6heeD10rT5fTFxcSfzWgfHz/grz8Q%2BfA37CHgDwJG/%2Bpn%2BIHxIGoHHZmj09Qy/7vUV9bUUfUMdU/i4qX/bsYQ/ST/EP9buFsJ/uOQUPWvVxOIf3OpQp/LlaPkk/A/8A4LC/ETjxt%2B238NPh%2Bj/62P4f/DttTKjuqtqLAj69RSj/AIJeePfF/wC%2B%2BNP/AAUn%2BP2uO3%2ButtB8VRaLaS%2BxggiYY9g1fWtFH9i4KX8Vzn/iqTf4KUV%2BAf8AETOJ6OmBjh8Kv%2BnOEw0H/wCBSpVp/fP5nyx4d/4Iz/sEadq0fiDxt8ONZ8bajF/q7zxv4svtQI9cxtKI2z3yhr3j4dfs/wDwI%2BENvHa/Cr4L%2BFfDaRD5BoXh%2B2tSPfMaAk%2B/U119FdOHy3L8I70aMYvuoq/32b/E8TN%2BNOMOIIcmZZhXrRX2ZVZuK9IKUYL5QCiiiu0%2BZCiiigAooooAK8Z/Zf8A%2BS3/ALR3/ZZrH/1CvC9ezV4z%2By//AMlv/aO/7LNY/wDqFeF6APZqKKKACiiigAooooAKKKKACiiigAooooAKKKKACiiigAooooAKKKKACiuc%2BLviP4geEfhvq3iX4WeCdN8R6/Z24k0/RtX15tMtrk7l3eZdJb3DRKqbmyIZCduAvNebR/tmWKfsF%2BHf227z4ez%2BZ4m8DaJreneEbbUVd3vtVitvsmni4ZFU7ri6ih84ooGd5UD5aAPbK%2BE/%2BCjGp/2J/wAFZ/2INT3YzceObXP/AF2i0WLH/j1fUH7N3x38UfGF/GPhH4k/D6x8L%2BL/AAD4nXRfEmk6Tr76pZF5bC01CCe2upLa2eaJ7e9hyXgjZZFlTaQgZvj7/grrqR0X/gpH%2Bw5qmcD/AITnV7Yn0E1/4ei/9mrzc3lyZfOXZx/9Lpn2vh3Q%2BtcYYej/ADxrr78Li/8AI/Q2iiivSPigooooAKKKKACiiigAooooAKKKKACsvxz/AMiTrH/YKuP/AEW1alNnghuYXt7iJXjkUq6MMhgRggj0oAdRWUvgzRkUJHcamqgYVU1u6AA9ABJxS/8ACH6T/wA/eq/%2BDy7/APjtAGpRWX/wh%2Bk/8/eq/wDg8u//AI7R/wAIfpP/AD96r/4PLv8A%2BO0AeBaF/wAEvfgV4S8CeJfBXgzx34z0qfxB8UIfHVjrsN7ZTXegX1vLHJa2lktxaSW4srfYyxW80MwUSyHJYhhVH/BKv4Ez/Du9%2BHesfEvx9qKal4T8faBqOrX2q2b3lzF4v1W01TVbhmFoE89bizj8khAiI7qySfKV%2Bh/%2BEP0n/n71X/weXf8A8do/4Q/Sf%2BfvVf8AweXf/wAdoA8am/4J%2B/DtvjfpXxitvi147trDRfiHc%2BONO8BwX9kNFi125sbmzubrBtDdMJVu7iRojcGISyNIqKSc%2BhfEv4E6B8YvghefA74k%2BKdZ1OC%2Bs4o5dfEkFvqKXMMiTQXqNBCkMdxFNHHMhWIIHjU7COD0f/CH6T/z96r/AODy7/8AjtH/AAh%2Bk/8AP3qv/g8u/wD47QBxPwb/AGatP%2BDOn3aWPxV8U65qWueLJvEHjXXdeXTnuvFFy9gtgqXYhs4oY4o4IbNUW1jtyPsECklDKkvmuhf8Eu/glo/ge/8AAN98TPHuqWi%2BH9L0LwZPqGqWfn%2BC9N02%2Bjv9PttMaK0TiC5htpBJdC5lk%2ByQLK8iIFr6A/4Q/Sf%2BfvVf/B5d/wDx2j/hD9J/5%2B9V/wDB5d//AB2gDwzxr/wTs8N%2BOfgL45%2BB2pftKfEuC4%2BJuvnVfiD42tzoZ1fW2NjBYCBxJpb2cEItrW0jAt7aJh9nU7tzymSb4nf8E9fCHxfvLi%2B8c/H34iTvr/gyw8K/EZYJtJhTxxpdnPdTRQ6gqaeBCSb68VmsBaMyXLqTgJt9t/4Q/Sf%2BfvVf/B5d/wDx2j/hD9J/5%2B9V/wDB5d//AB2gDmY/2efh9N8YfFfxp16O41jUPF/hOw8Nahp2riKaxg0y1kvJPs8URjGFle%2BmabeX8zEYOFjUDyX/AIdMfsSaLqfjPWvhZ8JdM8AXnjK00BGuvAOhabpTaPPo2oDUrG7s/KtcJKLxLedxKJY5GtIA0ZVSG%2BgP%2BEP0n/n71X/weXf/AMdo/wCEP0n/AJ%2B9V/8AB5d//HaAPKNG/Yyu/C/grWvD/g79qr4m6Rr3irxY/iDxj46s/wCw21XXbk2MFgElEumPawRra2tpEv2a3gZRaxkMCXLu8Q/sP%2BANb8I%2BEfhDp/xG8W6R8NvCWlaZp6/DLTZrH%2BytVhsJFkt1vJZbSS%2BcZjiEipdRpMse2VXDyB/Vf%2BEP0n/n71X/AMHl3/8AHaP%2BEP0n/n71X/weXf8A8doA88v/ANlDTvFHxq0z4w/Er4z%2BMvFdv4e1O91Hwp4N1pdLTSNFurqzuLKSWIW1jDcTkWt3dQKLmecKlzJxnaw4jw9/wTJ%2BDGj%2BE7zwdrPxJ8ca5bReF9O8O%2BD5tXv7LzfB%2Bm6fdx3lhFp7Q2ke54LmC1lWa7FzKzWkPmPIFIb3r/hD9J/5%2B9V/8Hl3/wDHaP8AhD9J/wCfvVf/AAeXf/x2gDwrxv8A8E6/D3jj4IeJfg1c/tM/EyyuvG/jCLxJ468aWf8AYTatr93Fb21vEkwm0uS0hiSKxsUVbe3hOLOMbjuk8z0iT9njRNW8f/D34neNfHXiDxDrPw50W/s9LuNTNoiX13dwwQS6ncx29vEn2sRRTRqYViiVb25AiwyeX1v/AAh%2Bk/8AP3qv/g8u/wD47R/wh%2Bk/8/eq/wDg8u//AI7QB5vdfsmJrvxhtPjD43/aB8e6/Jod7qN54N0HUW0qOw8NXV5bzWzz232awimmeO3uJ4Y/tctwESVuCTuql4c/Y41Dw7d%2BKPGLftV/Eu%2B8ceKNM0zTJfiFexaD/aOn2FjcT3ENrbQR6UtgqF7q53s9q8jic5f5Itnqv/CH6T/z96r/AODy7/8AjtH/AAh%2Bk/8AP3qv/g8u/wD47QBw/wAPPgR4c/Z%2B%2BDfiXw3o3iXWddvdYuNS1nxB4i8QzQve6rqFwpMlxL5EUUKHCoipFFHGiRoqoAKxfHH/ACkL%2BF//AGRnx5/6dvCFeonwZob4Wdr6ZMgmK41a5kRvZlaQqw9iCK8u8cf8pC/hf/2Rnx5/6dvCFAHs1FFFABXAfH39oPSPgNZ%2BH7b/AIQHxD4u17xZrh0nwx4U8KrafbtRuFtZ7uXa17cW9vEkdvbTyM8syL8gUEu6I3f15D%2B1F8I/ix4x8S/Dv4wfAy28O33ib4eeJbq%2Bi0TxXq8%2Bn2OqWl1pt1YzQtdQW1zJbupnimVxBID5BjIAk3oAJqv7afwwi%2BA3g348%2BEvDXiPxJF8Qb2zsfB/hnSbOCPVL%2B%2BuEkf7IUupoYYJYlhuDL50sax/Z5AWyADx3jT/gpx8IPCXgzS/FVh8KvHOt3V1ofibV9b8P6XDpiXvh608PXcdlrT3hub6GFmtbqVYWjt5Z3kOWiWVBvqppf7IvxF0D9jXSf2dtd%2BHnhDxrrGg3NpqdndzfEHVPDizatJcyXd5dwXljZS3WltFcTS%2BQ0JkdoztZo9zV4x4u/wCCSnxBX4P%2BGfh/Z%2BB/hZ49WDTfGc2o6B4%2B1a/Sy8Pa/r%2BpjUF1nTrk2l1cXNxZ7pbdJZRDcSKfNFxDJJLuAPvfQdb07xNodl4j0eZpLTULSO5tZHiZC0cihlJVgGU4I4IBHcV4f%2Bx//wAm9av/ANl68c/%2BrA1WvUrP4ZNf/Byy%2BE3jvxlreqSJoVvp%2Bq6/Y6xdaZf3skcaK9yLi0ljmgkdlLlo5FYFiM15d/wT38H6Jov7Meo%2BCITe3NhZfFr4hWsLapqlxe3LpH401oK0lzcO800nAJlkdpGb5ixPNAHvVFZX/CH6T/z96p/4PLv/AOO0v/CH6T/z96r/AODy7/8AjtAGpVTXtC0fxRod74Z8RabFeafqNpJa31ncJujnhkUo8bDurKSCPQ1W/wCEP0n/AJ%2B9V/8AB5d//HaP%2BEP0n/n71X/weXf/AMdoA%2BfvBP8AwTB%2BFHw0%2BEfgP4YfDz41fEfStQ%2BH2t6nqml%2BOV1PT7nW7yW/SaK6F1Jc2UkEm6KbyldYUljSGIRum0k2PA3/AATE%2BAfw/wDDXh7wroni3xhJbeGvDXw80Owa71K2eR7bwbqt3qmltI32cbpJZ7yVbhuA6KgjELAu3vP/AAh%2Bk/8AP3qv/g8u/wD47R/wh%2Bk/8/eq/wDg8u//AI7QB4h8Nv8Agnd4F%2BFPxE0v4geEvjr8RFXwv4b13QvAehXF5pslh4Ws9VmtppktENjvlMT2kHkm6e42Kmw7k%2BWvSPjn8A9E%2BO/g3S/Dmr%2BNNd0TVNA1q11jw94s0B7VdR0zUIAyrcxCeCW3YtHJNE6SQvG8c0ilMHjp/wDhD9J/5%2B9V/wDB5d//AB2j/hD9J/5%2B9V/8Hl3/APHaAOM%2BGf7OGnfCD4aWvwv%2BH/xQ8U2VpBp%2BsC7vmaxlur/VNSuzeXGszPJasDei5kuZgEVbcteS74HAiEfMT/sL%2BB9a%2BDnxG%2BE/jr4seNvEV58WLVrTx1401K6sYtXvrQ262otUNraQ21vCLcNEEhgTHnSyf62RpD61/wAIfpP/AD96r/4PLv8A%2BO0f8IfpP/P3qv8A4PLv/wCO0Aec/tA/sgeD/j1d6bq1r8RPFHgjUdO8Oaj4dbUvBL2MUtzot99nN1p7i7tbhFjZrW3ZZI1SaIx/u5E3OG2PDH7M3w08H/FbQ/izoQvo5/DHw%2BHg3wzpLTq1npWmmeGaXyVK%2BZ5kptbNHZnYFbOHCghi3Xf8IfpP/P3qv/g8u/8A47Sf8IfpP/P5qn/g9u//AI7QBq1leD/%2BQTN/2FL7/wBK5a%2Bfvjx/wUM/Yj%2BAutf8ITe/FTVvFnix5DFbeC/AWpXmsanNKP8All5cEpSN/wDZldDXHWXjz/gqZ%2B09ZJpXwa%2BEGg/s8eD5RiPxD47I1XxE8ZP%2BsisF/dQPycpcc553V5lXN8HCo6dK9Sa%2BzBczXq17sf8At6S9D7nAeHnEeIwkcbj1DBYaWqq4mXsYyXenCSdar5eyozT/AJj6k%2BJ/xg%2BFHwU8ON4u%2BL/xJ0PwxpittF9r2qRWsbNj7qmRhub0UZJ7Cvm/V/8Agr78DfFuozeGf2S/hP8AEL41atG5jP8AwhHheZdPhk/6bXlwqJGn%2B2A68itX4Wf8Eof2cPD/AImX4n/tCX2tfGnxsR%2B98R/E68OoRxnqVgs2/cRRg8qpVymOGr6V0jR9J0DTYdG0LS7ays7dAlvaWkCxxRKP4VVQAo9gKztnWJ1bjRj2t7Sf3u0E/RS%2BZ1up4Z5H7sYV8yqL7Tl9Uw9/KMVUxM4%2BcpUb9o3PkxYP%2BCxH7Rh8ya%2B%2BHv7PWhzdI4ox4n16MHsScWnT0wwNT2P/AASD%2BDnji9i1z9rn43fEr4z3yOJDbeMPFc0OmxOO8NnamNY1zztLMK%2BtaKaybB1NcQ5VX/fk2v8AwFcsP/JWTLxL4iwq5MmjSy%2BH/UNSjTnbzry9riG/P20b%2BRxvwk/Z3%2BA3wF07%2Byvgt8HfDXhaEptk/sPRobd5R/tuihpD7sSa7KiivTp06dKChCKSXRJJfckj4bF4zGZhiJYjFVZVKkt5TlKUn6ylKTfzYUUUVZzBRRRQAUVm6r4x8I6EpfW/FWm2YX7xur6OMD/voiuS8RftYfss%2BEImm8WftKeANMRfvNqHjGxhA/77lFZTr0KfxzS9Wl%2BbRjUxGHor95OMfWSX5tHf0V4LqX/BUb/gnjpV01ndftheBXdepttaSZPwaPcp/OsnXv8Agrz/AME2fDdmb7UP2tvDciD%2BGwjubt/%2B%2BIInb9K5JZtlUd8RD/wOP/yRwyzzJYJ82Kpq3/TyH/yR9IUV8kn/AILOfsr%2BIRj4M/Dv4s/Edm/1S%2BCPhnezmT02%2BeIutIf2%2Bv21fHf7v4If8EpfH8yv9y5%2BIHiax8PCMf3mjl3scf3Qc1l/beWP%2BHU5/wDBGU//AEmLX4mH%2BseTS/hVfaf4Izn/AOkwa/8AJj63or5JX4l/8FpLr/iZRfsz/BC1hflNMufGV69zEPRpEHlsfpSn9oD/AIK%2B6B%2B81b/gn14D8QAdY9C%2BK8Nqx%2BhuUIo/teit6VVf9w5fpf8AIP7dw63o1kv%2BvM/0u/wPrWivkoftv/8ABRCz/d63/wAEiPEMci/fFj8WNJuVz7MqDNH/AA8D/bEsudc/4JO/EqMd/sHiPT7o/kpFH9tYHrzr1p1P/kA/1hy3rzr1pVV/7jPrWivko/8ABUXx7onzeOf%2BCY/7R1oo%2B9Jo/gmLUVX3PlzrxQP%2BCwHwkX5bn9lH9oOGQffil%2BFE4ZD6HEh5o/tvKutS3rGa/OAf6x5KvirW9Y1F%2BdNH1rXjP7L/APyW/wDaO/7LNY/%2BoV4XrzD/AIe5eD775fC37DH7TGtseg034SSHB9y864rov%2BCdfxTvPjVrfx5%2BJuofDDxN4Nl1P4zQbvDfjHThaalZiPwj4biHnRBm2bwgkXk5R1PeujDZjgsZNwoz5nvtL83FL8TqwmbZdj6jp4epzNK%2B0tvVwivxv5H0nRRRXaeiFFFFABRRRQAUUUUAFFFFABRRRQAUUUUAFFFFABRRRQAUUUUAYHxR0Tx54l%2BH2q6B8MvFOkaJrt5amKw1XXtCl1O0tySAzSW0VzavKNm4ACaPBIOSAVPh3gn9h/4oWn7Duj/sU/E3496Fqlv4c8FaZoug%2BJ/DvgObTbi2u9Ma3bTb9op9RukdomtYHePIWR1JBjU7B9IUUAeZfs3fAfxT8Hn8Y%2BLviV8QbHxR4v8AH3idda8SatpOgPpdirxWFpp8EFtayXNy8MSW9lDkPPIzSNK%2BQHCr8I/8FjvhH8KPhv8Atsfs8fGjwT8MfD2ja7c6/e6p4l1zStFgt7vVHh13wskb3M0aB5yvnPguWI3nHU1%2BndfnL/wXq/0HU/A3izp/YPgbXNQ3f3dvirwQmf8AyJXk57/yJq77Rb%2B5xf6H6B4U6%2BJOVQ/nrRh/4MjVp/8AuQ/RqiiivWPz8KKKKACiiigAooooAKKKKACiiigAooooAKKKKACiiigAooooAKKKKACiiigAooooAKKKKACiiigAooooAKKKKACiiigArxnxx/ykL%2BF//ZGfHn/p28IV7NXjPjj/AJSF/C//ALIz48/9O3hCgD2aiiigAooooAKKKKACvGf2D/8AkiGuf9lm%2BI//AKmut17NXjP7B/8AyRDXP%2ByzfEf/ANTXW6APZqKKKACiiigAooooAKKKKACivOP2l/2svgN%2ByN4GPjz45%2BO7fS4ZSU03T4x5t7qU3aG2gX55XJIHA2rkFio5r5j1vQf2sv8AgoFpsnjL9pHxHe/s9/AVQJB4VXUktPEXiK37HUbliBYQMOsI%2BYgsrA/LJXm4vMqeHqexprnqb8qtou85PSEfN6vpFn2WR8G4nMMA81zGtHB4CLadeonaTW8KFNWnXqLrGFoQ3q1aa39R%2BPX/AAU6%2BB3wy8Yv8F/gxourfFz4ksWSHwR8P4vtTQODgm7uVBitUU8OSWZOpTHNcPF%2Bx3%2B2R%2B2vKuuf8FAPjC/g/wAHzHfF8GPhjqLQxyJ2TUtQU77g44aOMmPIDKyHiovBv7cf/BJT9iPR0%2BDH7Neq6VqF0SANC%2BFuizazd37rxukuYVdZ3HTdJMW7VsH/AIKafGbxopT4Gf8ABML45ayz8W83i3Srfw/bynsRLO74U/3sfhXizxODxUmsbiFP/p3S5nH0k4KUp%2BjlGP8AdZE/FLg7hiTo8JwSqrR4molXxN%2B9KFOFShhvLkVSsv8An9F6nvHwI/ZW/Zz/AGY9F/sH4CfBvQfDELRhJp9Osh9ouAOnmztmWY8dXZjXf18ii6/4LP8AxqO%2BHS/hD8FNNk52XM03iLV4fbKYtGx%2BHNPP/BPD9rDx%2BMfHz/gqr8Ub9JP9fB4A0uy8MrjuoMAkOO2e9enSxs4U1DCYSfKtrqNOP3Sd/wDyU%2BAx3E%2Bc5zi5YqrRr16k9XOrJRcn3cqs5TfzXyWx9R%2BLPG/gzwDpTa9468XaXotin373Vr%2BO2iX6vIwA/Ovn34jf8Fev%2BCfnw%2B1D/hH7H49W3izWHbba6P4EsJ9YmuX/ALqPbI0RP1cVQ8J/8EbP2CNF1VfEvjf4Z6p481gff1fx94mvNTlk/wB5HkETfilfQXw7%2BDvwk%2BEOnf2R8J/hd4d8M2u0Kbfw/osFmhA9REig1d87rdKdNf8Ab1R/%2B2R/M478R4jZUqS9ZVZfh7OH4s%2BaI/27/wBt74vt5n7Mv/BMvxXHpz8prnxX1628PfL2ItG3yuD1BVun1qQS/wDBbrxocpa/s6%2BC7Zu0j6vqN4n5YiNfW1FP%2Bza89auJqP8AwuMF90Yt/j8x/wBkYmprXxlVv%2B640190YN/%2BTP1Pkn/hmH/grD4r58U/8FNNA8ORt/rLfwr8ILKfI9BJcuGX69aUf8E2v2gPEJ3/ABE/4KofG%2B6c/fPhq8tdHX8BFG%2BK%2BtaKP7GwT%2BNzl61Kj/8Ab0g/1fy6X8R1J/4qtV/hzxX4HyV/w6P8LXP73W/28f2nNRn7XF58XXLD6bYABR/w6S8Px8Wn/BQD9qOBf7sPxfYD9bc19a0Uf2HlX/Pr8Z//ACwP9XMk/wCfK/8AAqn/AMtPko/8EjfB93%2B51/8Abq/aa1a2P37LUfi7I0T/AFCwKf1oH/BEj/gn5qP7zxx4F8U%2BJ5j9641/4garI7fUx3CD9K%2BtaKP7Dyd70Iv1vL/0qUg/1byF/Fhoy/xXl/6VKR8uaV/wRZ/4JiaOwe0/ZU05yOn2rX9TnH5S3LZrrfD3/BMP/gnt4YkWXTf2O/AMhXp/aHh%2BK7H5Thwa92orWGUZTT%2BHDwX/AG5H/wCRNqeRZHSfuYWmv%2B4cP/kWcJpn7Ln7M2i2osdG/Z18CWkC/dhtfCNlGg/BYgK1tC%2BC/wAHfC94NR8M/Cfw1p1wOk9joVvC4/4EiA10tFdUcPh4/DBL5L/I7o4XCwty04q3aMV%2BUQooorY3CiiigAooooAKKKKACvGf2X/%2BS3/tHf8AZZrH/wBQrwvXs1eM/sv/APJb/wBo7/ss1j/6hXhegD2aiiigAooooAKKKKACiiigAooooAKKKKACiiigAooooAKKKKACiiigAornfi58UvBvwP8Ahb4i%2BMfxDv3tdC8LaLc6pq08ULSyLbwRNI%2BxFy0jkKQqKCzMQACSK434W/taeDviB4W8Z694t8B%2BJ/AmofD35/GHhvxdb2rX2nwmzS9jn/0C4uoZo3gfcpilc7kkjIWSN0AB6pX58f8ABdjR/wC3PCctls3bPgP4uuMf9cvFHgWXP/jlfVP7MX7Y3hH9p/VNT0DS/hp4r8KalpvhzRvEC2HipLAtd6TqouvsN7E9hd3Me2Q2VyPLd0mTywXjUOhbwD/grto/9uHUbLbnZ%2By78S7jH/XLUvCEv/sledm8PaZTiI94T/8ASZH2Xh1ifqfiDk9f%2BXFYd/8Alal/mfZXgrV/%2BEg8G6Tr27d9u0y3uM%2Bu%2BNW/rWnXBfsr6x/wkP7MPw41/fu%2B3eAtHuN3rvsoWz%2Btd7XZQn7ShCfdJ/ek/wBT5vNMP9TzTEYf%2BSpUj/4DOcf/AG0KKKK1OEKKKKACiiigAooooAKKKKACiiigAooooAKKKKACiiigAooooAKKKKACiiigAooooAKKKKACiiigAooooAKKKKACvGfHH/KQv4X/APZGfHn/AKdvCFezV4z44/5SF/C//sjPjz/07eEKAPZqKKKACuA%2BPv7QekfAaz8P23/CA%2BIfF2veLNcOk%2BGPCnhVbT7dqNwtrPdy7Wvbi3t4kjt7aeRnlmRfkCgl3RG7%2BvIf2ovhH8WPGPiX4d/GD4GW3h2%2B8TfDzxLdX0WieK9Xn0%2Bx1S0utNurGaFrqC2uZLd1M8UyuIJAfIMZAEm9ABNV/bT%2BGEXwG8G/Hnwl4a8R%2BJIviDe2dj4P8M6TZwR6pf31wkj/AGQpdTQwwSxLDcGXzpY1j%2BzyAtkAHLH7eXgnWPD3hmb4c/B/xv4t8T%2BJ5taji8AaJHpkeq6e2j3gsdW%2B1Pd30FnELW8aO2dhcsHklTyjKrBq5fS/2RfiLoH7Guk/s7a78PPCHjXWNBubTU7O7m%2BIOqeHFm1aS5ku7y7gvLGylutLaK4ml8hoTI7RnazR7mrx3W/%2BCQuuaT8PfB39j%2BA/hz4213TdJ8cW%2Bs6B4417UI9KsrzxJqsOq/2haXBtrq4nnsZYTDFJKiTzLK0xmhlyWAPviyuHu7OK6ktZYGliV2gmxvjJGdrbSRkdDgkZ7mvHv2D/APkiGuf9lm%2BI/wD6mut12vh74TzD4E6T8F/iD451zWZ7Xw3aaZq/iSy1m603UNQlihRJLoXNpKk8EkjIXLRyBgWPzV55/wAE6fD1h4S/ZuvvC2lXF9Lbad8W/iHbW8up6pPe3LonjPWlBluLh3mncgcySOzsclmJJNAHulFFFABRRRQAUUVk%2BOfHngv4Y%2BEr7x58RPFVhomi6ZAZtQ1TVLpYYLdB3Z2IA7AepIA5NKUowi5SdkiZSjCLlJ2S3b2Navin9v8A/wCCstp8F/FJ/Ze/Y48Jv8SfjJfyNbjTNItXvbfRHHDGdYuZJl5/cgjZgtKVACvxHiP9qP8Aam/4K0eL774N/sJXmpfDz4N2N0bbxd8Zry2eG81QD71tp6HayZHPBWTBXzGhDeXJ9a/sm/sS/s5fsV%2BCF8G/AnwFBZSyxKuq69dgTalqjj%2BO4uCAzZOWCLtjUsdiKDivnp4vGZynDAS5KWzqtb91ST3/AMb91fZUnqZ4PH4yFaOIw9GDjvGVZOUX1UlSvFzj1j7SUKc9Hyzh8fwd%2Bzr/AME6P%2BCn/wASviG37Qvxy8ceGfBnjO/wX8ceLYIvEniDT0JJEen2g/0DT48E4C/vYyzAMASo%2BmfD/wDwR%2B/Z213V4PF/7Unj7x58atchfzEuPiH4onltIH7%2BTaQlI0T/AGG3gZr6worTCcOZXhocsk6mt3ztyu%2B7WkW/NqT8y86eL4oxqxmeV54uokox9o1yQitoU6MFToUoR%2BzCnSUV5u8nznw2%2BDvwl%2BDekf8ACP8Awk%2BGPh/wxY4ANroGjw2cbY9REqgn3PNdHRRXuQhCnFRgkkuiVl9ysEKdOlBQgkkuiSS%2B5JL8AoooqiwooooAKKKKACiiigAooooAKKKKACiiigAooooAKKKKACiiigAooooAKKKKACvGf2X/APkt/wC0d/2Wax/9QrwvXs1eM/sv/wDJb/2jv%2ByzWP8A6hXhegD2aiiigAooooAKKKKACiiigAooooAKKKKACiiigAooooAKKKKACiiigDz/APar%2BCt1%2B0Z%2Bzd42%2BB2na9HpV54n8OXVjp2pzQmWO0umQmCZ0BBdFlCMyAgsoIyM5rzPwB8Bv2p728%2BKfj3x/e%2BEPCviz4p6YmmpdeEPEV1qMXhaG00xrexnga4sbc30xuprmdw6QLGpiQeaULN9GUUAfL//AAT3/Yu8Z/sreJPEmu6t8OPhz4C0zV/C2haWPB/wu1G5ubC%2B1Cx%2B1/adduGns7XF5crcQRN8kjlLRDJcTHb5fFftz/Bnw3p/xs8TavpGoeIZ73xb%2Byl8VVvoNV8Xajf2kTibwyq/ZbW5nkgshlzlbdIw2F3A7Vx9q186/tO6P/wkP7VnhrQNm77d%2Bzr8Srfb6777wmuP1rDFQ9phakO8ZL74tfqepkWI%2Bp55hMR/JVpS/wDAatOX/tp0n/BOrV/7c/YJ%2BDV9u3FfhnosJOepis4oz/6BXs1fOH/BIjWP7c/4Jt/CW9352eG2t8/9crmaLH/jlfR9c%2BVT9pldCXeEP/SYnsce4f6px1mtD%2BXFYhf%2BV6v%2BYUUUV3nyYUUUUAFFFFABRRRQAUUUUAFFFFABRRRQAUUUUAFFFFABRRRQAUUUUAFFFFABRRRQAUUUUAFFFFABRRRQAUUUUAFeM%2BOP%2BUhfwv8A%2ByM%2BPP8A07eEK9mrxnxx/wApC/hf/wBkZ8ef%2BnbwhQB7NRRRQAUUUUAFFFFABXjP7B//ACRDXP8Ass3xH/8AU11uvZq8Z/YP/wCSIa5/2Wb4j/8Aqa63QB7NRRRQAUUV8x/8FKP21dU/Zu8E2Pwl%2BDd/Yt8UfHEM0fh430qi30KyjRmutauywKx29vGrvlgQWU8MqOBzYzF0cDhpV6r0X3t9Eu7b0X%2BV2ufFYmGEoupJN6pJRTcpSk1GMYxWspSk1GMUm22kbP7cP/BR74GfsSaN/ZmvzP4i8a3lo8%2Bj%2BB9InUXUqKpJnuHOVtLZQpZppOAqsVDbSB8O/AT9nv8Aa%2B/4LX/EC0/aA/bT8TXegfBTTL4zeH/B%2BjNJa2%2BrFSQFt1PztH1D3kmXbLJFtGTHofsQ/wDBPrQ/2y/Fb/FnxbFrl38JVv1udT8T%2BKXk/tz4t6lG4LXVwznfb6Ukigx24I37FLlpAWj/AFP03TdO0bToNI0iwhtbS1hWG1tbaIJHDGoCqiquAqgAAAcACvl8PhsbxJUVfGPlwy%2BGmnpPzk9HKPbaMui5bOX2WMyDDcJ0FDOoxrZm7N0LqdDBdVGrvHEY3ZyjLmw%2BFdoqFbEJuln%2BBvAvg34ZeENP8A/D3wxZaNouk2y2%2Bm6Xp1usUNvGOiqq8D1Pckknk1rUUV9hGMYRUYqyR8xOc6s3Obbb1berbfVthRRRTICiiigAooooAKKKKACiiigAooooAKKKKACiiigAooooAKKKKACiiigAooooAKKKKACiiigArxn9l/8A5Lf%2B0d/2Wax/9QrwvXs1eM/sv/8AJb/2jv8Ass1j/wCoV4XoA9mooooAKKKKACiiigAooooAKKKKACiiigAooooAKKKKACiiigAooooAKKzfGfjHwr8O/B%2BrfEDxzr9rpWiaFps%2Boaxql7KEhs7WGNpJZpGPCoiKzE9gDXN/BP8AaH%2BE/wC0JoOo%2BIPhjrWoSJo9/wDYtYstc8PX2kX1hOYYp1Se0v4YbiHdDNFKpeMB45FdSVYGgDtq8W%2BIEEV1/wAFA/hlazruST4LePVdfUHVfCANdd8D/wBpL4TftGWd7qvwi1DWr/T7NIZI9XvvCOp6fY6hDNv8qexubu3ih1CBhGxE1s8sZUo27DoW5Txx/wApC/hf/wBkZ8ef%2BnbwhQNNp3R5p/wRDnlH/BNXwHoty%2BZtJvtbspifVNXvCB%2BTCvrGvkv/AII1/wCg/sw%2BKPCfT%2Bwfi94n0/b/AHdt6Xx/5Er60rysi/5EuHXaCX3XX6H33isl/wARLzia%2B3iKk/8AwY41P/cgUUUV6p8AFFFFABRRRQAUUUUAFFFFABRRRQAUUUUAFFFFABRRRQAUUUUAFFFFABRRRQAUUUUAFFFFABRRRQAUUUUAFFFFABXjPjj/AJSF/C//ALIz48/9O3hCvZq8Z8cf8pC/hf8A9kZ8ef8Ap28IUAezUUUUAFeY/tH/AB58W/CO98G%2BB/hd8OrDxV4w8eeIJdM0DStY8QvpVjGsFjc3txc3N1HbXLxRpFbFRsgkZpZYlwqlnT06vMP2kPgN4u%2BLl74N8c/C34i2HhXxh4D8QTanoGq6x4efVbGVZ7G5sri2ubWO5tXljeK5LjZPGyyxRNllDI4Bx2o/tzPf/s2/Dr40%2BAfhat1r3xL8Q2Xh7R/DOv6%2BLC20/VpTMs8F5exwz%2BWkL2txHvjhlMkioiKTItcb8Tv%2BCqHh/wABfsi/8NCaD8Ko/EXiqLW9d0m78DaZ4mUxRTaHfT2ms3AvvIObOA20hScwL5rT2kZSN7hVXt9P/Y48R%2BHf2T4/2VtJ8W%2BBdfsLeztY1l%2BI/wANG1uzv5vNM99PfWS38CXDT3DPMio0Kwsw4kCivNvG/wDwRl%2BAHjb9mWb4Jnxdr%2Bj%2BJZtA1jTx4v8ADGu6po1qj6pqEmo3Y/srTr63tpLX7TKTHayb1jjjhj3MIwaAPsSvGf2D/wDkiGuf9lm%2BI/8A6mut16Tq3wy8BeJPh4fhR4y8MW3iLw7JpyWN3pficHVEvYEUKFuDdmRrknaCzSl2Y/MxJJNeUf8ABOnwx4a8Ffs3X3g/wb4esdI0jS/i38Q7TTNL0y0S3trSCPxnrSxxRRIAsaKoChVAAAAAoA90ooqK%2BvrHS7GbU9TvIre2t4mluLieQIkSKMszMeFAAJJPAAo2BtJXZwf7Uf7Sfw5/ZK%2BCOtfHL4nXjLYaTBi2soSPP1G6biG1hX%2BKSR8KOwGWOFUkfmL%2Bzb8A/i5/wUw/ah8Ta78bZ5ksJr6Cb4z6layMsVtBG4lsvBdi/VUj2pJdspB8xQDh41eY/af%2BPnxT/wCCmn7Vvhvwp8CHlGlDUri0%2BDtvKjCKNYnMd/4yul6iOHa8VpnBMillw8bxyfp7%2BzH%2Bzj8N/wBk/wCCmifA34W6f5Wm6Rb4lupQPOv7luZbqZh96SR8sT0HCjCqAPiteKMz/wCoWk//AAOX%2BTX/AJJ51NPreGIx4dy%2BlxfiF/tFTmWXQf2EuaFTMZJ9U%2BelgE18Sq4pXUKTfa6No2k%2BHdItfD%2BgaZBZWNjbJb2VnaxCOKCJFCpGirgKqqAABwAKs0UV9okkrI%2BUlKU5OUndvVt6tt6tt92wooopkhRRRQAUUUUAFFFFABRRRQAUUUUAFFFFABRRRQAUUUUAFFFFABRRRQAUUUUAFFFFABRRRQAUUUUAFeM/sv8A/Jb/ANo7/ss1j/6hXhevZq8Z/Zf/AOS3/tHf9lmsf/UK8L0AezUUUUAFFFFABRRRQAUUUUAFFFFABRRRQAUUUUAFFFFABRRRQAUUUUAeYftqfCHxV8fP2TPiH8HfAr2o1vxB4UvLXR476UpbzXRjJiilYAlYncKjtg4VmODjB8s8BfC742/FbV/jX4q8ffBrX/h6fjFo0OhaXZ6hqulXVxokNrpDwC%2BuzZXk0e%2BWe5lSNYHmOy2jaTyi%2B1fqKigD5T/4Jw/B39pT4Q3N1oXxP8OeM9A8M2PgDQNLOk%2BN/HUGutd%2BIrb7Sl/f6cYbq4FnYSRm1VIP9HXKZW0t9reZ0t/4L8SeHv8Agpt4L8Rat8XPEOu2erfB7xw9hoOq22nJaaKF1bwllLZra0incPuGftEs5%2BQbSvzZ%2Bh68Z8cf8pC/hf8A9kZ8ef8Ap28IUAeY/wDBJ/8A4l0X7RPhNuP7M/ae8VLCvpC/2Z0/ma%2BtK%2BS/%2BCc//Eq/aV/aq8J9PJ%2BMa6ht/wCvqzR8/jtr60rycj0yyEezmvuqVD9A8Ufe44xNX/n5DDz/APA8JhH/AJhRRRXrH5%2BFFFFABRRRQAUUUUAFFFFABRRRQAUUUUAFFFFABRRRQAUUUUAFFFFABRRRQAUUUUAFFFFABRRRQAUUUUAFFFFABXjPjj/lIX8L/wDsjPjz/wBO3hCvZq8Z8cf8pC/hf/2Rnx5/6dvCFAHs1FFFABRRRQAUUUUAFeM/sH/8kQ1z/ss3xH/9TXW69mrxn9g//kiGuf8AZZviP/6mut0AezV%2Bf/8AwV//AGt4NXsda/ZA8FeIp7PRdI0Ea58c/EOnzBX0/RyVFvo8T8hbu/kaOJVPRZVLBkZyv1r%2B2L%2B0To37KP7MvjL4/awI3Ph7RpJNPtpTxc3rkRW0Pr887xqcdASe1fn7%2BzF%2BzHqPxj%2BPPhT9mjxw02rTeGp7X4o/tOa3efM%2Br%2BKbpTJpuiykcbLdXZmi/wBWR5vAavmOIcVWmo5fh/jqWv6N2S%2BdpOXaEJdZI9Dh3JMPxVxHHL8ZJxwNCnLE4ycXZrDU2l7KL6VMTPlw8Oq9pJrbT6c/4JU/scXPwL%2BF7fHr4paBb2vxC8f6dbSXVjFCVj8N6QiKLLRrdWy0aQxCPeCdxcAMWKBj9Y0UV7mBwdHAYWNCltH72%2Brfm3q/8krdXEOeYriPN6mPrpR5rKMIq0KdOKUadKnHaNOlTjGEIrZRvvKTZRRRXWeKFFFFABRRRQAUUUUAFFFFABRRRQAUUUUAFFFFABRRRQAUUUUAFFFFABRRRQAUUUUAFFFFABRRRQAUUUUAFeM/sv8A/Jb/ANo7/ss1j/6hXhevZq8Z/Zf/AOS3/tHf9lmsf/UK8L0AezUUUUAFFFFABRRRQAUUUUAFFFFABRRRQAUUUUAFFFFABRRRQAUUUUAFFZvjPxj4V%2BHfg/VviB451%2B10rRNC02fUNY1S9lCQ2drDG0ks0jHhURFZiewBrnPgh%2B0J8Kv2iNE1DXfhbrGozLpGoCx1aw1vw7faRfWNwYYp1Sezv4YbiLdDNDKheMB0lR1JVgaAO1rxXx3d20f/AAUV%2BFdlJMoll%2BC3j5o4yeWC6t4P3EfTcPzrtfhV%2B0T8Gvjd4o8ZeDfhX42j1jUPAHiA6J4tjgtJ0jsr8RrI0AldFjmKhtrGJnVHV42IdHVfk3/go78X7z4Ef8FP/wBjvx/JO6aVeReM/D%2BuEfcWDUZfD1ujyH%2BFEnML5PGVFc%2BKxEcLQdWWytf5tL8LnLjcVDBYZ1p7K1/RyjG/y5kzs/2Mv%2BJT/wAFKv2uvDJ4U6h4M1CIf3vP0iQuR%2BIAr60r5L%2BA/wDxJv8Agr/8etN6f218PPC2oY/veSkkGf1xX1pXDk2mFnHtUqr/AMqSf6n6V4k%2B/nuGrfz4PAy/8tKUX%2BNNhRRRXrH5%2BFFFFABRRRQAUUUUAFFFFABRRRQAUUUUAFFFFABRRRQAUUUUAFFFFABRRRQAUUUUAFFFFABRRRQAUUUUAFFFFABXjPjj/lIX8L/%2ByM%2BPP/Tt4Qr2avGfHH/KQv4X/wDZGfHn/p28IUAezUUUUAFeY/tH/Hnxb8I73wb4H%2BF3w6sPFXjDx54gl0zQNK1jxC%2BlWMawWNze3Fzc3UdtcvFGkVsVGyCRmlliXCqWdPTq8w/aQ%2BA3i74uXvg3xz8LfiLYeFfGHgPxBNqegarrHh59VsZVnsbmyuLa5tY7m1eWN4rkuNk8bLLFE2WUMjgHHaj%2B3M9/%2Bzb8OvjT4B%2BFq3WvfEvxDZeHtH8M6/r4sLbT9WlMyzwXl7HDP5aQva3Ee%2BOGUySKiIpMi1z2vf8ABQD4jn9lnUv2rvAPwL8LatofgqPxMPibBe/E1rRtNuNBvLi0vYNPkXTpU1As9pcNE0xs1dREWMZkITptP/Y48R%2BHf2T4/wBlbSfFvgXX7C3s7WNZfiP8NG1uzv5vNM99PfWS38CXDT3DPMio0Kwsw4kCiuB1f/gmp8RtI%2BGnw5%2BEHwk%2BPnhHTPDHhDxDqPiXxR4Z8Q/C6W90zxNrlzfNfxTtb2eqWQt7S1uZZZILLdJEpW23FvsyZAPrHSdRj1fS7bVobeaJLq3SZYriIpIgZQwVlPKsM4I7GvIf2D/%2BSIa5/wBlm%2BI//qa63Xp3ibwP4Z%2BIXgu48CfFPwzo/iPTdRtBBrGmanpaTWV6ONyvbzeYpQkZ2MWxxycZrx7/AIJ76N4P%2BG37MGqaD4c0XT9D0HQ/ir8RYbLT9PtUt7WxtYfGWtBY440AWONEUAKoAAGAKNgbSV2fPf8AwVe%2BN2h698b/AAx8GdV2XXhT4TaFcfFT4lWzN%2B7umtcxaRprnoTPduqtGTysqN2zXuX/AAS9%2BA%2Bs/B79lvT/ABn8RGkufHnxKuX8X%2BPNRuVxNNf3uJRG390RRsibOgYORjca%2BEfAelan%2B2n4r8KQ%2BIoGk1L9qf4szeLvFts53NYeA/D0jx2dhL/dEkkbBWHDGNOM1%2BvCqqKERQABgADpXyOSL%2B0czrZhLbaPlzLT7qaj86j8z6jAc2T%2BGlGo9K2cVXiZd1hMO5UMHB9eWdT2%2BIts3yuzsrLRRRX1x8uFFFFABRRRQAUUUUAFFFFABRRRQAUUUUAFFFFABRRRQAUUUUAFFFFABRRRQAUUUUAFFFFABRRRQAUUUUAFFFFABXjP7L//ACW/9o7/ALLNY/8AqFeF69mrxn9l/wD5Lf8AtHf9lmsf/UK8L0AezUUUUAFFFFABRRRQAUUUUAFFFFABRRRQAUUUUAFFFFABRRRQAUUUUAeYftqfCHxV8fP2TPiH8HfAr2o1vxB4UvLXR476UpbzXRjJiilYAlYncKjtg4VmODjB81%2BFXgv9pLxf4t%2BMPxPu/hxrnwo1n4padbaX4VuNUl0jVZvDMljpTRRapew2t88UzPdXEgjhhkk3R2sfmtD5hVPpmigD5X/4J3fsnftEfssfEj4o6Z8U/EHhG/8AC%2BoyaDF4SuvDXhWfTmvRa6VBby3DifVr6XduQq/mnzJZRJNvIkAHkn/BU39mHxh8V/iZqFjH8WfEuu3dx8BPHOu%2BEtEvrbTkh0K807WPCF2kdk9taRXBMpj2E3Esx5G0rls/oHXjHjyOOb/goP8ADGKWNWRvgv49DKwyCDq3hDIIrDFYeGLw06E9pJr701/wfkc2NwtPHYOph57Ti4v5pr8N/kfM3wn%2BPlvb/tr/AAV/bO8QiMeF/wBoz4PWnhV7%2BP5U03xLBILgW8h6fvG3wIOpdW7Ka/QCvzj%2BBf7M3/C4v2UPj3/wTPW9Nl4j%2BDvxKurz4aXhl2SadHOzajo84brHvYzqzDokrYr61/YE/adk/ay/Zj0L4l65bfZPE1mZNI8baW6bHsdZtSI7mNk/gywEgXqElUHmvAyLE1Iy9lV3qJzX%2BNPkqx%2BU48y/uy8j7yriJcX%2BHGW5/wD8v8JGGCxKXRw9p9XqW6KaVajJ7e0px6zsez0UUV9MfGBRRRQAUUUUAFFFFABRRRQAUUUUAFFFFABRRRQAUUUUAFFFFABRRRQAUUUUAFFFFABRRRQAUUUUAFFFFABRRRQAV4z44/5SF/C//sjPjz/07eEK9mrxnxx/ykL%2BF/8A2Rnx5/6dvCFAHs1FFFABRRRQAUUUUAFfGniD4k/8Kj/4JVfHPx5HceVNbeLfitBZy5xsuJ/GGuW8J/7%2BSpX2XX5jft7eOrPw5/wSt1XwLfTEQ%2BNf2o/F%2Bk3aqeTbp461y9lY4/hAtOT2zXm5zX%2Bq5TXqrdQlb1asvxaPPzX6w8tqwoK9SUeWC7zm1TgvVzqRS9Tq/wDgiJ8LpvFGteI/2itXsz9k8JeF9K%2BGXg4sOFjsII5tVlQ90mv3LqR/tDnmv0Or5v8A%2BCRHgYfD/wD4JwfCnSWg2SXvh5tVlYjmQ3lxLdBie5ImHPpivpCsOH8MsNk9FdZRUn6ySf4Ky9EfoviFOhT4sr5fhn%2B4wXLhKX/XrCRWHi/%2B3nTqVH/eqS33ZRRRXsnxQUUUUAFFFFABRRRQAUUUUAFFFFABRRRQAUUUUAFFFFABRRRQAUUUUAFFFFABRRRQAUUUUAFFFFABRRRQAUUUUAFeM/sv/wDJb/2jv%2ByzWP8A6hXhevZq8Z/Zf/5Lf%2B0d/wBlmsf/AFCvC9AHs1FFFABRRRQAUUUUAFFFFABRRRQAUUUUAFFFFABRRRQAUUUUAFFFFABRUd7e2enWcuoahdxQW8ETSTzzSBUjRRlmZjwAACST0rm/h78cPgr8XPA0vxP%2BFPxf8LeJ/DUDSrN4i8PeILa9sYzEMyhp4XaMFBy2W%2BXvigDqK8Z8cf8AKQv4X/8AZGfHn/p28IV3nwm%2BOnwS%2BPeh3Hib4F/GLwr40020ujbXWoeE/ENtqMEMwUN5byW7uqvtZTtJzgg964Pxx/ykL%2BF//ZGfHn/p28IUAeRfteeDvjD%2Bx/8AtIXX/BR/4HeGJfFXh3UdCttL%2BM/gmziH2yWwtifK1W0P8csCHDIeNinoCzJxVx8R779lr4g6v/wUg/ZZsF%2BIf7P3xbW31T4j6R4dQtf%2BH7yNSkurwQk/MD832mIgOrq27aFyv3wQGBVhkHqDXxz46/Y7/aO/Y/8AiBrvxx/4JxXGkX%2BgeILs3/i/4E6%2Bwg0%2B/uCMST6bP0spnH8BxGT1yqpGPmcxwFahU9tQ5uXmc/dV5Qm1rKKfxRktKlPrvHXQ24cz/F8DZlXrRw/1rAYpOOJw7vdxclJzpte9GSnFVIuN5U6i54KcZVaU/qb4WfFX4d/G3wBpnxR%2BFHi6z1zQNYtxNp%2BpWMm5JF6EHurKQVZGAZWBVgCCK6CvzB%2BD3je10n4paz4o/wCCc3jmH4W/EO6v/O8efsnfFmMWNnqN5geY2nFiohlcDKtCdrDZuESDYfq79nb/AIKZfBX4teK/%2BFLfGPTL34T/ABRt2WK%2B8A%2BOCLeWWQ8A2dwwWO8jY52FSGYDITGCenAZ7h8QowrtRk9E7%2B5J/wB1u1n3hPlmtrO1z7KvwphM6y%2BeccI1/r2DWsox/wB5w66xxFFe8lHZ1qcZUna79k24r6Qooor3T4cKKKKACiiigAooooAKKKKACiiigAooooAKKKKACiiigAooooAKKKKACiiigAooooAKKKKACiiigAooooAK8Z8cf8pC/hf/ANkZ8ef%2BnbwhXs1eM%2BOP%2BUhfwv8A%2ByM%2BPP8A07eEKAPZqKKKACvMf2j/AI8%2BLfhHe%2BDfA/wu%2BHVh4q8YePPEEumaBpWseIX0qxjWCxub24ubm6jtrl4o0itio2QSM0ssS4VSzp6dXmH7SHwG8XfFy98G%2BOfhb8RbDwr4w8B%2BIJtT0DVdY8PPqtjKs9jc2VxbXNrHc2ryxvFclxsnjZZYomyyhkcA47Uf25nv/wBm34dfGnwD8LVute%2BJfiGy8PaP4Z1/XxYW2n6tKZlngvL2OGfy0he1uI98cMpkkVERSZFri5/%2BCmniXxJ4Msr74NfADT/FPiSx0jxdqXjfQx46Fvb6ZF4b1MaXqEVpdizk%2B3TzXW4WqvHbpLGjPLJbcKe50/8AY48R%2BHf2T4/2VtJ8W%2BBdfsLeztY1l%2BI/w0bW7O/m80z3099ZLfwJcNPcM8yKjQrCzDiQKK4Rf%2BCYGreCfh3ovhf4BfHiw8IawnhjxPoPivVm8CpcW%2BoWuvXyaheyWdpFdQJp8sNyrfZPmmhgicxvFOApAB9R%2BCfGGg/ELwZpHj7wtdGfTNc0y31DTpyhUyQTRrJG2D0yrA4r8cf%2BCl/jxW%2BD/hz4dhg9rpnj342a7rEZP3PN8W6tptm//f8AuWH41%2BvUfwa%2BGEnwktfgTrPgjTdX8I2uiwaT/YOt2Ud5bTWcMaxpFLHKGWRQqLwwOcV%2BI3i/wx4c8c/H7xP8EvBvh6x07QtC%2BLz/AAt03RNMtEgtbNdR%2BI2uaskUUSAJGoitAoCgAKAOmK%2BX4wnJZLKlHecox/X9Ee5whhaWYcfZHhKqvCeNw8p/9e6M3iqn/kmFZ%2B2P7P3gf/hWXwF8EfDfyfL/AOEf8I6bpvl4xt8i1jix/wCO119FFfS04RpU4wjskl9yS/Q8vGYqrjsZVxNX4qkpTfrKUpP8ZMKKKKs5wooooAKKKKACiiigAooooAKKKKACiiigAooooAKKKKACiiigAooooAKKKKACiiigAooooAKKKKACiiigAooooAK8Z/Zf/wCS3/tHf9lmsf8A1CvC9ezV4z%2By/wD8lv8A2jv%2ByzWP/qFeF6APZqKKKACiiigAooooAKKKKACiiigAooooAKKKKACiiigAooooAKKKKAPIv2%2B/h940%2BK37FHxT%2BHHw80aXU9Z1nwNqNrZaRA4V9TLQNus1LEKDOu6EbiF/eckDJrzz9m/xhpl58WfjN8bJPhN440nwb4zfTv7G0nV/hpq1pdanJpujIl9ctYy2qzRb0MFpGJkRrhrHbEJF8st9QUUAfMH/AAT28U33xt8b/EX9qfxp8PfGHg/xN4yg0eyPg7xR8PNW0I6Jotl9t/s%2B3eS/tYY76%2BJubuW5ktzJHEZoYAzJFHLNsX%2Bm/Fe0/wCCm3gu88beNPD2oaFcfB7xwfDWnaV4Yns7uwQat4S8xbm5kvZkuycpgpDbhdpyG3Db9D14z44/5SF/C/8A7Iz48/8ATt4QoA9mooooA8x/aQ/Y2/Zo/a10RdG%2BPnwk0vXJIY9tlqhjMN/Z85Hk3URWWPnnaG2kjkGvk349f8Etf2mIPCLeCfAPxW8OfGrwTbBv7O8B/HeyeXUNOQjBWx1u223MT4wqjMaKAAcjNfoBRXl43J8vxzcqkLSeja0b9ekl5SUvkctPDfVcxhmOCqTw%2BJg7xrUZypVU1t78Gm/SSkum2h%2BP9n%2B01/wUA/4JzEafqnh/x74d8M2TYfwr8W9Mk8S6Bbxjqln4g04GZOOEhaPYgxuZuSfo/wDZ9/4L/fsofEGOHSfjzomo/D3UjsWe%2BWRdX0fe33QLu0DMhPcSRptyMmvvB0SRDHIgZWGGVhkEeleFfGj/AIJlfsG/H2Wa9%2BI37MXhlr2clpdT0a1bTbp3/vtNaNG7t7sTXjxyfPcuf%2BwYpSj/ACVE2vk03b5WXkfX1eMczzGNs%2BwlDHS/5/JPB4p%2BcquHhKhWfd1sIpN6ubdz1b4bfFn4XfGPw6ni74TfETRPEulyY23%2BhapFdRZPYtGxAPseRXQV%2Be3iL/g3q%2BDnhjxC3jb9lf8Aal%2BJHw01oEm3u7a%2BW5WA9cI0Zgmxn1lJ963dF%2BDP/BdP9nWB08EftJfDL4yaVax7bbT/ABzp01nfyj2kiVCW95blq7KeaZtR0xmDl605KovuvGf4M%2BcxmNytPmoUq8PKcadT/wAnoTSfq6UdN1fQ%2B7KK%2BIb7/gpn%2B3B8FhDbftRf8EpfHMEUUG6%2B1z4daxFrlv7v5cKMsS%2BzzkjuaXwh/wAHBH/BPLXbk2HjLV/GXg64Ryk8HiPwlKzwsOoYWjTkEVt/rDk6ly1Kvs32mpQf/k0V%2BbOB5hh40nVmpxgt5Sp1YxXrJ0%2BVf9vTifbtFfP/AIL/AOCqX/BOzx6EOhftfeC4PM%2B6NZ1L%2BzT%2BP2sR4/GvWPCHxv8Agt8Qdn/CBfF7wvrfmfc/sjX7a53fTy3Oa9CjjsFiP4VWMvSUX%2BT/AEChmOXYr%2BDWhL0nF/lK/wCB1FFFFdR2hRRRQAUUUUAFFFFABRRRQAUUUUAFFFFABRRRQAUUUUAFFFFABRRRQAUUUUAFeM%2BOP%2BUhfwv/AOyM%2BPP/AE7eEK9mrxnxx/ykL%2BF//ZGfHn/p28IUAezUUUUAFFFFABRRRQAV%2BNf7K/gB/EH7fdrZXVv%2B88U/tzfEzVyCOtv4dnunhkPt5t3Oo91NfspX5r/sTeH9K17/AIKf2%2Bj6XagR%2BEYfiz4ju5M5/wBNv/iLrFmc%2BjGJF/4CBXg59QVeGHT/AOfsF97/AMos%2B28PcMv9YauYv/mDwuNrL/E8LOhB/KWJR%2BlFFFFe8fEhRRRQAUUUUAFFFFABRRRQAUUUUAFFFFABRRRQAUUUUAFFFFABRRRQAUUUUAFFFFABRRRQAUUUUAFFFFABRRRQAUUUUAFeM/sv/wDJb/2jv%2ByzWP8A6hXhevZq8Z/Zf/5Lf%2B0d/wBlmsf/AFCvC9AHs1FFFABRRRQAUUUUAFFFFABRRRQAUUUUAFFFFABRRRQAUUUUAFFFFABRRRQAV4z44/5SF/C//sjPjz/07eEK9mrxnxx/ykL%2BF/8A2Rnx5/6dvCFAHs1FFFABRRRQAUUUUAFFFFABXI/E/wCAPwM%2BNdobH4wfBzwv4ojK7QNf0K3uyo/2TIhKn0IIIrrqKidOnVjyzSa7NJr7mmdGFxeLwNdVsNUlTmtpQlKMl6SjKLXyZ8e/FD/ghR/wTk%2BJCTvpfwr1TwlPcZ8248KeIbiEH6RTGWEY9BGBXg/j3/g278JCPZ8Jv2jkS2jPyab4u8EWtyZh2V7q0a3lX/eUZr9OqK8TEcL5BiXeWHin3j7v/pLS/A%2BhfGOeVly472WKXbE4fDYm/q62HlP/AMq%2Bltz8lG/4JBft0fB048D%2BF/DWq2kI/cD4b/GHXtBvmA9ft7ywqfpkUDwd%2B3V8JR/xWOiftw6EIvvf8I/4/wBN8dRR4/uqkcOV9s9K/WuiuL/VLB0/93qzh87r84P8TP8AtDgjE/77w3hG%2B9CWKwcvl7DEypr/AMFfJbH5MW/7aXxH8FzJaeJP%2BCvHxO%2BH8hYKLD4rfsxRSsW/utLGH2n3r0XwV%2B2F%2B0x4i2DwL/wWH/Zp193/ANVD4t8PrpEkh9NnmI2fYCv0fuLe3u4GtruBJY3XDxyKGVh6EHrXnXjX9jn9kr4j728e/sx%2BANXkfrPf%2BELOSUH1DmPcD7g0f2FmdL%2BHiL%2Bsq0fynNfgH9neEWJ3w2Y4V/8ATrHRrRXpHEUov75s%2Be/C/wAQP%2BCxuvQfavBfjL9krxnbBciTStT1oSMPXKMUFa//AAtj/gszpP8AyEP2TPg7q%2BOv9leO7i33fTzlOK1/FH/BGn/gmv4qn%2B2S/sx2GnXAO6O40PWr%2BxaNvVRBOq/pisn/AIc/fB7Qxn4WftQfHvwTt/1aeGPilcRovtiVJMj2zR9Szyn1k/SuvyqUf1D/AFQ8N6/%2B78Q46j5VsNGol86NVt/%2BAoT/AIah/wCCsumf8f3/AAS30LU8df7N%2BNunQ5%2Bnmx0f8Ns/8FGrL/kOf8Ehdcjx1%2BwfF/SLr8tqDNL/AMO9v2tvDX/JM/8Agq78UbXb/q/%2BEp0Ww1rH180Juo/4Z8/4K8eF/wDkA/8ABQrwN4o2/dHib4Tw2W/6/ZHOPwo/4V4fF7f5fV5/pFh/xDnKqv8AunF1J%2BVWlWpP/wAmwc0v/AhP%2BHgn7Ydp/wAhb/gk78S0x1%2Bx%2BI9PuP8A0EilP/BST4/23/IR/wCCWHxwXHX7LZWs38pBR5n/AAW/8Nfeg/Zq8SwL02NrdncP%2BeYxR/wv7/gr34d/5DH/AAT98BeItvX/AIR/4qxWe76fakOPxo%2Bs4yPxVa69aEX/AOk3D/iFXEE/924gwdT0xOFj/wCnaVD8WJ/w9A%2BJEH/H9/wS/wD2jl9fs/gyGX%2BU4o/4er6vD/x%2B/wDBM39qhfXyPhWsv8rml/4bn/b70Uf8Vr/wSQ8WQY%2B//YXxJ0vUvy8tVzR/w89%2BJOj/API4/wDBMH9ouDH3/wCxfB0Oo4%2BmyZc0fX5r4sZJf4sPb/2wP%2BIQ%2BJMv4GKpVP8ABVy6f5YyIn/D2nSov%2BP7/gnh%2B1Tbevn/AAeYY/K5NH/D3n4dx/8AH9%2Bxl%2B0fa%2Bv2j4SyjH5Sml/4e/fCax/5Gz9lD9oPQMfe/tj4UTpt%2BuyRqP8Ah9b%2BwnZf8jTrvjPQ8fe/tb4eamm367IWo/tKC3zGK9acV%2BfKH/EHPGR/w8PVn/goUan/AKaxFT8BP%2BHxfwCh51H4AfHGz9ftPwtuhj8mNH/D6L9j%2BD/kK%2BHPibY%2Bv2v4bX4x%2BSGrum/8FsP%2BCYWqnZB%2B1JaxN0K3fhjVYcH0PmWorodM/wCCsX/BOTVsfZf2uvCaZ6fabiSH/wBGItaRzHm%2BHMaT/wC3Yf8AyxHLX8KfGTC/xcDiF64Gr%2Blzkv8Ah9z/AME87f8A5C/xI8R6f6/bPAGrLj/vm3NPt/8AguJ/wS7nby2/aeETjqk/g3WUI/OzxXpWm/8ABRj9gbVcfZf2y/hmuf8An58aWcP/AKMkWtq2/a//AGNvEShbP9qL4ZXwPQReNtOlz%2BUpreOJxkvhxlF/9ur9Kx5FbgvxNw38XDzX%2BLBYhfokeUwf8Fpf%2BCYtwMx/tWacP%2Bumg6mv/oVsKmH/AAWY/wCCZZGf%2BGr9I/8ABRqH/wAj16/bfEr9lzXyDZ%2BPvAN7noY9VspM/kxrUsbH4JaqQ2m2fhW5J6GCO2f%2BVbxebS%2BGvSf/AG7L9KjPLq5Vxnh/4vJH1oVo/nJHg03/AAWl/wCCYsAJf9qzTjj%2B5oOpt/K2qjcf8FxP%2BCXUDbF/aeEr9kg8G6y5P0xZ4r6et/CHg6ICS18L6Yo7NHZRj%2BQq/BaWtqu21to4x6RoB/KtPZZ2/wDl9T/8Fy/%2BWHJ7DiP/AJ/0l/3Cn/8ALUfJ/wDw%2B3/4J8XH/IG%2BIHibUfT7F8P9WbP/AH1bik/4fOfsoXH/ACBvA3xW1HPT7F8NL5s/99KK%2BtaKPq%2BcvfEQ%2BVL/ADqB9V4ge%2BKgvSj/AJ1WfJX/AA%2BB%2BEM/Ok/sq/tA347Gz%2BFFw2fzkFVPgn%2B1xpf7U/8AwUL8GNpfwE%2BJ/gldC%2BDPjLL/ABH8IHShf%2Bdq3hX/AI9syP5uzyvn6bfMj67uPsCvGfHH/KQv4X/9kZ8ef%2BnbwhWtDD5jCqpVa6lHt7OKv8%2BZtG%2BGwua06ylWxKnHrFUoxv8ANSbXfY9mooor0D1AryL9qL4ufFfwd4l%2BHnwg%2BBtz4esfE/xD8S3VjFrfirSJ9QsdLtLXTbq%2Bmma1gubaS4djBFCqCeMDzzIWIj2P67Xn/wAfv2fNI%2BPVn4fuR4/8ReEde8J64dW8M%2BK/CjWn27TrhrWe0l2re29xbypJb3M8bJLC6/OGADojqAeL%2BM/25/ijB%2Bwl4M/aR8OeFdLsPEniHxFp%2Bha8g0O912DSrlr9rG8mttOs5IrzVQs0Ugit4GWZ1dXwdjKfIviN/wAFT/2j/Dn7Pvgz4l6PoXhmC/1bw/461HUb2L4ca1rC3cmg6mlnawSaZaXaXWgLdRMZri4v3ePS5B9musSmvpa6/YT%2BH6fB7wz8GfDPxO8ZaHaeB7/TtQ8Eatp1zYvfaJfWsUkTXaSXFpKtzJcLPcef9qSdXM8hCrnjnb//AIJm/DU6BZ2Hhb46/Ejw/q39neILHxH4p0nUNNN/4kg1u%2BF/qS3nn2MsCNJcgyK9rFbvBkpC0afLQB7bJ8T/AAp4d%2BFcPxa%2BJfibRPDmkppEN/qup32twiwskdFYsbtisZjBbAkyFYYI61%2Bf/wDwRW1nRPi9%2B2X%2B1B8ZfDWuWWraLp3jnVdJ8Oaxpt2lxbXtrdeJtcvzJDKhKvGd0bBlJDBgQSDX6J%2BEfCmgeBPCel%2BB/CenLZ6Vo2nQWOmWiMSILeGNY40BYkkBVA5JPFfHX/BGTwc%2BmN%2B0748uods2t/tbePYY2x9%2BC21eZEP/AH28o/CvOxtN1cVhl0U3L7oSt%2BLPs%2BGMbDA5HnUn8VTDwpL/ALiYqhzf%2BS02n5M%2B1qKKK9E%2BMCiiigAooooAKKKKACiiigAooooAKKKKACiiigAooooAKKKKACiiigAooooAKKKKACiiigAooooAKKKKACiiigAooooAK8Z/Zf8A%2BS3/ALR3/ZZrH/1CvC9ezV4z%2By//AMlv/aO/7LNY/wDqFeF6APZqKKKACiiigAooooAKKKKACiiigAooooAKKKKACiiigAooooAKKKKAPHv%2BCg58cj9hz4sH4b/2n/bH/CBan9n/ALE3/btn2d/N%2BzeX8/n%2BV5nl7Pn37dvzYr55%2BAHiX4Z6Z4Q/aO8O/wDBPLX/AAtb%2BFtT0b/izNj4KurZdNu/Esfh/de/2UkR8uQK5sGm8kFRcGcviXza%2B56KAPir/gl2fgKfi14p/wCGPDpZ%2BHP/AAqTwX/bn9hbfs3/AAlnmat9t%2B0bf%2BYr9m%2Bw/bfM/f5%2Bzed81enX%2BpfFe7/4KbeC7Pxt4L8PafoVv8HvHA8NajpXiee8u79Dq3hLzGubaSyhS0IwmAk1wG3HJXaN30PXzh%2B0fq/xr0f9vD4Tz/A74f8AhbxFqTfCPx2t3aeK/GFzosEcH9qeEiXSW30%2B9Z33bRsMajBJ35AUgH0fRXjP/Ccf8FC/%2BjX/AIM/%2BH41b/5l6P8AhOP%2BChf/AEa/8Gf/AA/Grf8AzL0AezUV4z/wnH/BQv8A6Nf%2BDP8A4fjVv/mXo/4Tj/goX/0a/wDBn/w/Grf/ADL0AezUV846T%2B0d%2B3brHxn1/wCB1v8AsofCRdU8O%2BF9I128uX%2BOuqeRJBqNzqVvCiEeGNxdW0ucsCoADx4LEsF6j/hOP%2BChf/Rr/wAGf/D8at/8y9AHs1FeM/8ACcf8FC/%2BjX/gz/4fjVv/AJl6P%2BE4/wCChf8A0a/8Gf8Aw/Grf/MvQB7NRXjP/Ccf8FC/%2BjX/AIM/%2BH41b/5l65fwD%2B0d%2B3b8RPFfjfwho/7KHwkhuPAfiiLQtVkufjrqgSeeTStP1MPFt8MElPJ1GFSWCnejjGAGYA%2BjqK8Z/wCE4/4KF/8ARr/wZ/8AD8at/wDMvR/wnH/BQv8A6Nf%2BDP8A4fjVv/mXoA9morxn/hOP%2BChf/Rr/AMGf/D8at/8AMvR/wnH/AAUL/wCjX/gz/wCH41b/AOZegD2aivnH4RftHft2/GXwpd%2BL/Dn7KHwktrez8Ua3oUkd78ddUVzPpeq3WmTuNvhhhsaa0kZDnJRlJCnKjqP%2BE4/4KF/9Gv8AwZ/8Pxq3/wAy9AHs1FeM/wDCcf8ABQv/AKNf%2BDP/AIfjVv8A5l6P%2BE4/4KF/9Gv/AAZ/8Pxq3/zL0AezUV4z/wAJx/wUL/6Nf%2BDP/h%2BNW/8AmXrl/gj%2B0d%2B3b8ePgx4Q%2BOPhX9lD4SWul%2BM/C%2Bn67pttqHx11RZ4YLu2juI0kCeGGUOFkAYKzDIOCRzQB9HUV4z/AMJx/wAFC/8Ao1/4M/8Ah%2BNW/wDmXo/4Tj/goX/0a/8ABn/w/Grf/MvQB7NRXjP/AAnH/BQv/o1/4M/%2BH41b/wCZeuX%2BN37R37dvwH%2BDHi/44%2BKv2UPhJdaX4M8L6hrupW2n/HXVGnmgtLaS4kSMP4YVS5WMhQzKMkZIHNAH0dRXjP8AwnH/AAUL/wCjX/gz/wCH41b/AOZej/hOP%2BChf/Rr/wAGf/D8at/8y9AHrWp%2BHtA1obdZ0Ozuwe1zbJJ/6EDXPan8AvgTrWf7Z%2BCvhK7z1%2B0%2BHLWTP/fUZrhv%2BE4/4KF/9Gv/AAZ/8Pxq3/zL0f8ACcf8FC/%2BjX/gz/4fjVv/AJl6iVKlP4op%2BqT/ADTOqhjsdhf4NWcP8M5R/wDSZI2dS/Yp/Y21jP8Aa/7JXwyus9ftPgPTnz%2BcJrB1H/gm9%2BwFqmftP7G3w3XP/Pt4QtYf/RaCuc%2BLv7R37dvwa8KWni/xH%2Byh8JLm3vPFGiaFHHZfHXVGcT6pqtrpkDnd4YUbFmu42c5yEViAxwp6j/hOP%2BChf/Rr/wAGf/D8at/8y9c8svwE/iowf/bkf/kT16PF3FuH/hZjiI%2Bleuv/AHN%2Bhz2of8Em/wDgnJqWftP7I3hNc/8APvBJF/6A4rFvv%2BCL3/BMfUc/aP2VNNXP/PDXdSi/9AuRXd/8Jx/wUL/6Nf8Agz/4fjVv/mXo/wCE4/4KF/8ARr/wZ/8AD8at/wDMvWEsmyiW%2BHp/%2BAR/yPUpeJPiLQ/h5zi16Ymt/wDLGeZN/wAEPP8AgmZGxfTP2f7ywYnO6z8cayv87s0n/DlT9hmD/kE6X43sPT7H8Q9TGP8AvqY16d/wnH/BQv8A6Nf%2BDP8A4fjVv/mXrl/H37R37dvw78V%2BCPCGsfsofCSa48eeKJdC0qS2%2BOuqFIJ49K1DUy8u7wwCE8nTplBUMd7oMYJZc/7CyXphofKKX5WOv/iK/id9rOsU/wDFWnL/ANK5jmf%2BHNn7McH/ACC/il8X7H0%2ByfE69GPzJpf%2BHQXwnh/5Bn7WH7Qll6fZfivOMfnGa9N/4Tj/AIKF/wDRr/wZ/wDD8at/8y9H/Ccf8FC/%2BjX/AIM/%2BH41b/5l6P7CyfpRX/ky/KSD/iKviM/izOo/VUpf%2BlUJHmP/AA6X0eH/AJBv/BQn9qaz9BbfGBhj87c1T%2BCv7Kl3%2BzH/AMFC/Ba3H7THxU%2BIq618GfGWwfE3xUNUOn%2BTq3hXP2c%2BWnl%2BZ5o39d3lR9MV61/wnH/BQv8A6Nf%2BDP8A4fjVv/mXqh4H8D/tWeMf2rPDnxu%2BN3w4%2BHvhnRvDPw98Q6HDD4V%2BId9rV1d3WpX2iXCMyXGkWKRRomlygsHdi0qALjJG1DKsvw1VVKULSXnP8nNr8Dz804%2B4vzvAzweOxXtKc7XTp0FezTXvQw0JrVLaa7O6un7rRRRXoHx4UUUUAFFFFABXg3/BOzwrpnhj4K%2BLptODb9V%2BPPxKvrtnxzK3jPWE7dgqKPwr3mvkr9krxZ%2B2dp/w98UWfwx%2BAfww1fQk%2BNPxF/s/Ude%2BLuo6bdzL/wAJnrJYyW0WgXKRENuAAmfIAOQTtCcU2m%2BhcalSEJQT0la672d19z1PrWivGf8AhOP%2BChf/AEa/8Gf/AA/Grf8AzL0f8Jx/wUL/AOjX/gz/AOH41b/5l6ZB7NRXjP8AwnH/AAUL/wCjX/gz/wCH41b/AOZej/hOP%2BChf/Rr/wAGf/D8at/8y9AHs1FfOPwR/aO/bt%2BPHwY8IfHHwr%2Byh8JLXS/GfhfT9d0221D466os8MF3bR3EaSBPDDKHCyAMFZhkHBI5rqP%2BE4/4KF/9Gv8AwZ/8Pxq3/wAy9AHs1FeM/wDCcf8ABQv/AKNf%2BDP/AIfjVv8A5l6P%2BE4/4KF/9Gv/AAZ/8Pxq3/zL0AezUV84/G79o79u34D/AAY8X/HHxV%2Byh8JLrS/BnhfUNd1K20/466o080FpbSXEiRh/DCqXKxkKGZRkjJA5rqP%2BE4/4KF/9Gv8AwZ/8Pxq3/wAy9AHs1FeM/wDCcf8ABQv/AKNf%2BDP/AIfjVv8A5l6P%2BE4/4KF/9Gv/AAZ/8Pxq3/zL0AezUV4z/wAJx/wUL/6Nf%2BDP/h%2BNW/8AmXrl/i7%2B0d%2B3b8GvClp4v8R/sofCS5t7zxRomhRx2Xx11RnE%2Bqara6ZA53eGFGxZruNnOchFYgMcKQD6Oorxn/hOP%2BChf/Rr/wAGf/D8at/8y9H/AAnH/BQv/o1/4M/%2BH41b/wCZegD2aivGf%2BE4/wCChf8A0a/8Gf8Aw/Grf/MvR/wnH/BQv/o1/wCDP/h%2BNW/%2BZegD2aivnHx9%2B0d%2B3b8O/FfgjwhrH7KHwkmuPHniiXQtKktvjrqhSCePStQ1MvLu8MAhPJ06ZQVDHe6DGCWXqP8AhOP%2BChf/AEa/8Gf/AA/Grf8AzL0AezUV4z/wnH/BQv8A6Nf%2BDP8A4fjVv/mXo/4Tj/goX/0a/wDBn/w/Grf/ADL0AezUV4z/AMJx/wAFC/8Ao1/4M/8Ah%2BNW/wDmXrl9W/aO/bt0f4z6B8Drj9lD4SNqniLwvq%2Bu2dynx11TyI4NOudNt5kcnwxuDs2qQFQFIISTJUhQwB9HUV4z/wAJx/wUL/6Nf%2BDP/h%2BNW/8AmXo/4Tj/AIKF/wDRr/wZ/wDD8at/8y9AHs1FeM/8Jx/wUL/6Nf8Agz/4fjVv/mXo/wCE4/4KF/8ARr/wZ/8AD8at/wDMvQB7NRXzjpP7R37dusfGfX/gdb/sofCRdU8O%2BF9I128uX%2BOuqeRJBqNzqVvCiEeGNxdW0ucsCoADx4LEsF6j/hOP%2BChf/Rr/AMGf/D8at/8AMvQB7NRXjP8AwnH/AAUL/wCjX/gz/wCH41b/AOZej/hOP%2BChf/Rr/wAGf/D8at/8y9AHs1FeM/8ACcf8FC/%2BjX/gz/4fjVv/AJl65fwD%2B0d%2B3b8RPFfjfwho/wCyh8JIbjwH4oi0LVZLn466oEnnk0rT9TDxbfDBJTydRhUlgp3o4xgBmAPo6ivGf%2BE4/wCChf8A0a/8Gf8Aw/Grf/MvR/wnH/BQv/o1/wCDP/h%2BNW/%2BZegD2avGf2X/APkt/wC0d/2Wax/9QrwvR/wnH/BQv/o1/wCDP/h%2BNW/%2BZerf7K3w5%2BNPg/WPih47%2BOmgeF9J1Tx98Qotcs9K8J%2BJbnVre1tYtB0fTFV7i4srNmkaTTpXKiLaFkQbmOcAHrdFFFABRRRQAUUUUAFFFFABRRRQAUUUUAFFFFABRRRQAUUUUAFFFFABRRRQAV8r6t%2B1p8XIf2kZtcXw74Pb4eaR8YLb4XNFJpFwdfNxeafa3DahHefaPKSD7dLb27Wn2clkh8/zwQsNfVFeM3n7EPw4vPj83x1fxz4qW2l8Vw%2BKrnwKl1a/2JPr8WnLp0eqMpt/tPmrbpGPKFwLcyRJMYTKPMoA9mooooAKKKKAPmPw5%2B0t8TIf%2BCgHij4P/EbWPD3hPw2uv2mi%2BDItR%2BEWspdeMYP7Ag1HEHiNrtdOaWO7udQAtBC8vl2kwCgs0i/TleV%2BLP2WoPH/AMZNI%2BKfj343%2BNdX0rw9rsetaB4AuDpkWjWOoR27wRzhobJL2XZ5kkipNdSRiR92z5EC%2BqUAFFFFAHi//BQX4u/HD9n79kfxp8evgFe%2BFI9Y8E6Fd65dQeMNFub62u7S1tpZnt0S2urZkldkRRIXKoCxKPwK8/8AHn7Wnxc8F/HjxbqfhTw74Qi%2BHnhD4x%2BEfh94ys5tIuDreq6rrsGipHqEN2lwsMccH9uaTGYpLeV5EhnxLHtQV7D%2B1j%2BzjZftafAjXv2fda%2BKvinwjpPieylsdcv/AAgunfa7mylieKa23X9pdRojq/LIiyAqNrrzni4P2AfB0/xFs/iL4q%2BOPj7XWOs6TrnibRtQl0qKx8T65piRpY6tex21hEy3EQgtMLbNBAxsbYvExjyQD3uiiigArxf9sn4u/HD4JWvgHxj8LL3wp/Y2ofEzw54e8X2PiDRbm5urm11XWbHTQbOWG6hS2kjW5lk3yJOpKIuzkmvaK8q/au/Zbf8Aaq8N6F4Xn%2BPvjfwNb6F4ksNdRvBcOjs93e2N5BeWbSnUtPvBtiuLeNwsYQNysm9TtAB5x%2Bzz%2B0r8TNb/AGq/FvwR%2BKGr%2BHvCenQ%2BKdbt/BPhKT4Razplzr1tC6Sm/t9buLv7BqDsZJZZYraAuMl2K4Yn6cryXSf2UQ/xk0X4y/Ef9oDx341m8L3d5d%2BE9C8QjSYbDR7q5t5LWS4iWw0%2B2llf7PNPCvnySqizvtAJBHrVABRRRQB4P%2B1r8Zv2gvgN4k8L%2BLvBniDwRe%2BHta8XaF4dtvAt94cvJNc1y5vb5YblrS9jvVihMFq0l1sa0mHl2kzO8aAvHx/7Ev7Wnxc%2BKmvfDjTPH/h3whZeF/i/8HLj4g/DLT/C2kXFpNoGlW0%2BloNPvWkuJY7mT7PrWnMJYY7dFaOdPKICtXoXxJ/Y5X4iftO6J%2B1Nb/tHfEDQtV8P6GNK0zQNMh0S40uCB5vNuWjS%2B0y4mhluQI45pYpUdo4Y0VkA5P2ef2Ifhx%2Bzj4ui8VeG/HHirWo9J8PS%2BHvBWkeILq1e18JaLJcJcPp1gILeKTyS8NsM3DzyhLSBBIFQCgD2aiiigAr5f/a5%2BPH7S/wW%2BImn%2BFNKh8AeNdH8cw61baL8OYvB99JrCWtpod1dyX9xOL14rq2F1Fb20kItYgft8KCYyMiSfUFeHTfsTXEf7R/iv9prRP2q/iXp2r%2BLdNh0650uGDw/PaafZwwNHDbWbXOky3NvEsrvdbFm2vO5dw4O2gBn7CH7Qnjf4%2BfDy8uviv4%2B0a%2B8XacLNtf8N2Xwu1fwjeaA89ssogubHV7qe4cFt/l3AEcciodobaTXuleb/A79m7Tvgz4n8SfEPWPil4p8ceKvFcVjb6x4n8XNYLcvaWYm%2By2qRafa2ttHFG1zcuNsIZmuJCzNkY9IoAKKKKAPij9pj9uH4/fA74%2B3/wAB9R03wh4tGsPZJ4S/tH4Z6votto%2Bo3viHQ9M0hnvLu8lt/ECRy6xDLcNp4ia3a0%2BfyWlRV9//AGVfi/8AEj4jDx/8PvjEdEn8VfDTx43hrWdV8NadNZ2Gp%2BZpenatb3ENvNPPJb5tdUt0eNppcSRyYYgjHLfEv/gnn4N%2BNuvXHiD42/Hz4i%2BKnto7j/hDob%2B50q2TwjcSXVvdR3dgbOwhZ7iGW0tjFJdtclPK7733%2Bj/AP4C6H8A/D2rabZeL9c8Sat4i16bWvE/ijxK9sb/V76SOKHzphawQQLsggt4ESKKNFjgjULwSQDuqKKKACvib9qL9sf8Aaw%2BDvxm8UfCvwf4a8OeN9V0vwxf%2BIfCUafBPX4ZNIdLvT7eFYXN66%2BJpPsmpzrMNL8p4WiKyCPzhGPtmvEda/Yv1HxF4/b4n65%2B1p8ULnW7C3vYfBt26aCF8KrdzQvObSMaUEnZo4UgDXouisRcAhnZyAdL%2Byp8W5vjL8KR4m1H4naN4p1G11W5sdWutH8EX/hs2dxE3zWs%2BmajcT3VpOildyTMGIZW2qrCvSa4T4B/APQPgDoWs2On%2BLdc8R6r4m8QS654n8TeJJbdr3Vb%2BSGGDzZBbQwwRhYLe3hVIoo0VIUAXOSe7oAKKKKACiiigAooooAKKKKAKPijxDYeEvDWo%2BK9VDm10yxmu7kRLlvLjQu2B3OFNfOf7E37Sfxr8f%2BKdH8GfGzw94Msx46%2BFtl8RvDMPgzSri0GmR3lwTd6fdma4lF3NG9zbP9sQQCdpZiYI9oL/AEtd2lrf2stje26TQzRtHNFKoZXUjBUg8EEcYryH9mb9ivwF%2BzBqr6voHxB8W%2BJZbbwxY%2BGfDo8WXtrMNA0KzeR7fTbU29vCWjUyfNLOZriQRxeZM/lrgA9iooooAK4X9qDx58RfhZ%2BzR8RPid8H/Ci694t8OeBdX1TwtobWM10NR1G3s5Zba2MMDLLMJJURPLjYO27CkEg13VZ3i3RL/wAS%2BGNQ8P6X4r1HQrm9tJIbfWtIWBrqxdlIE0QuIpYi6nkCSN0yPmVhkEA8u/Yp%2BLU/xR%2BGd9Zat8QtA1nU/DuqLp15pmifDDVPBz6GgtoJIrO40rVLme5hcI4kV28tHili2Jgb39irzz4D/s7aT8DrzxL4jufiJ4k8Y%2BJPF%2Bow3niLxT4rezF3dGG3S3giEdjbW1tFFHGgCrHCmSzsxZmZj6HQAUUUUAfLn7VH7WPxQ/Zw%2BL3jiy%2BJWjeEvEXwvsP2d/F/j220K30S4TVXbRBpaz21xcyXL280U6304CC2QqETLvlhXb/sz/F/4%2Bap8XPGX7Ov7Sz%2BErzxR4Y8MeHvEseq%2BCtJubGykstWfUrdbYw3NzcuZYbjSLsGUSBZEeJvLjO5ag%2BMf7Cvh346fHVvjL48%2BO3jmXTZvBWp%2BEb74ewwaL/Yl3o2pLbfb7SQvprXpE7WkDs4ug6lCEZEZkPSfs7/ALLuh/s%2B32teI5/ih4t8b%2BIdftbCyv8AxP42ubSS9NhYpItnZj7JbW8flRGe4cEoZHe5ld3dmzQB6fRRRQAV8ifGv9pf9rbwXrn7QHgW38K%2BDPFl74C8P%2BFPEnw2sdJ%2BH%2Bp386x6jqupQhLu1ivHl1GeBdNjnU2wtyXJCr8qtX13Xhcv7FHiGL46eNvj/oX7aHxW0rVvG%2BkWOmXNjZWfhhrTTbayuLmezS2EuivJ%2B6N5dKDM8pdZyJPMKoVAOr/ZU%2BLc3xl%2BFI8Taj8TtG8U6ja6rc2OrXWj%2BCL/AMNmzuIm%2Ba1n0zUbie6tJ0UruSZgxDK21VYV6TXCfAP4B6B8AdC1mx0/xbrniPVfE3iCXXPE/ibxJLbte6rfyQwwebILaGGCMLBb28KpFFGipCgC5yT3dABRRRQB8bftLftd/tLfs8fGaD4baynwz8a32twQTeEYdO8LXtpL4LvNS8Q6Z4e0ibU5XvphdRTtq84LRLZyOLG6WMMvmGL3H9lX4v8AxI%2BIw8f/AA%2B%2BMR0SfxV8NPHjeGtZ1Xw1p01nYan5ml6dq1vcQ28088lvm11S3R42mlxJHJhiCMcLbf8ABNXwk118Q38Q/tL/ABO1m3%2BJOvHXNYt9SOheZZ6lFcQz6fc211FpaXSmwe3txaRvNJFEsKBkfnPrHwD%2BAuh/APw9q2m2Xi/XPEmreItem1rxP4o8SvbG/wBXvpI4ofOmFrBBAuyCC3gRIoo0WOCNQvBJAO6ooooAZc/afs0n2PZ52w%2BV5udu7HGcc4zXxB8Vv2uf20/hp8RNc%2BG1vbeA/GeveGL3w1b6t468EfBXX9Wj8OW%2BrNePe2EulWepT3dzNHDZWN0TFOn7u6haWBAYmk%2B3ruGS4tZbeG6kgeSNlWeIKXjJGAy7gVyOoyCPUGvnv4MfsBeIPgJ8Nrj4afDv9ur4xRR3WrPqc2s3ll4Tn1CW7leWS5nmmfQj9pkneXdJJOJHzGmwoBggHrPwE%2BIdl8Vvg74f%2BIVh8QNG8VJqeniR9f8AD%2BkzWFpdyAlZClrPNNLbFXVkaGSR3jZWVjuUgdfXJfAv4L%2BEv2ffhfp3wp8FXN/cWVhLdXE19qtyJrq%2Bu7q5lurq6mcKoaWa4nmlfaqrukO1VXCjraACqPieHxJc%2BG9Qt/Bup2Nlq8llKul3mp2D3VtBcFCI5JYY5YmmjVsFkWSMsAQHUncL1ZvjHQb/AMUeFr/w7pfi3UtBuby1eKDWtHEBurFyOJohcRSxF1PIEkbocfMrDIoA%2BJvhT%2B3B%2B1l8bvi5f/AD4V2Pw/h8co%2Btzjxt4r%2BFutaJHqGk6RaaLJ9mm0K7v01Gxla88RxRxyTzFDCstxHE6yqD9bfs2fGbT/2jv2dPAP7Q2laRJp9r488FaV4itrCaTc9tHe2cVysTNgZKiUKTgZxXkWof8E1PB2o63dfEh/2lvilD8RNQnuV1L4n2t5pEWsXVjPaQWsuneWumiyitjHa2zARW0ciywrKJBJlz738PvAfhP4WeAtE%2BGPgPR49O0Pw5pFtpei6fESUtrS3iWKGJc5OFRFUZ9KANeiiigDl/jTqPjjRvhbrWt/DnxDY6Xq1hZm6hvtQ8H3viBEjjIeUDTrGeC5vJGiV1SKGQOXZcK5%2BRvi34a/8ABRH4/a54h8Pa74wuPCPgTwbqcuo/8JR48vfgZ4iuLXUb2112TSYvtTJfRr4ZlltbaImLVGeS3YiN/ubK%2B2/iZ4M13x74Sm8OeG/ilr/g28kljeLX/DMVi93BtYEqq39tcwMGAKkPE3BOMHBHiuof8E5vCmr%2BAb34Uap%2B0h8Tbjwv4jubu5%2BIWhvcaPs8ZT3dy893JfSjTRPD5wcQtHZSWsYhRUVFAJIB9E0UUUAFFFFABRRRQAUUUUAFFFFABRRRQAUUUUAFFFFABRRRQAUUUUAFFFFABRRRQAUUUUAFFFFABRRRQAUUUUAFFFFABRRRQAUUUUAFFFFABRRRQAUUUUAFFFFABRRRQAUUUUAFFFFABRRRQAUUUUAFFFFABRRRQAUUUUAFFFFABRRRQAUUUUAFFFFABRRRQAUUUUAFFFFABRRRQAUUUUAFFFFABRRRQAUUUUAFFFFABRRRQAUUUUAFFFFABRRRQAUUUUAFFFFABRRRQAUUUUAFFFFABRRRQAUUUUAFFFFABRRRQAUUUUAFFFFABRRRQAUUUUAf/9k%3D\">"
      ]
     },
     "metadata": {},
     "output_type": "display_data"
    }
   ],
   "source": [
    "s = tf.InteractiveSession()\n",
    "s.run(tf.global_variables_initializer())\n",
    "\n",
    "BATCH_SIZE = 512\n",
    "EPOCHS = 40\n",
    "\n",
    "# for logging the progress right here in Jupyter (for those who don't have TensorBoard)\n",
    "simpleTrainingCurves = matplotlib_utils.SimpleTrainingCurves(\"cross-entropy\", \"accuracy\")\n",
    "\n",
    "for epoch in range(EPOCHS):  # we finish an epoch when we've looked at all training samples\n",
    "    \n",
    "    batch_losses = []\n",
    "    for batch_start in range(0, X_train_flat.shape[0], BATCH_SIZE):  # data is already shuffled\n",
    "        _, batch_loss = s.run([step, loss], {input_X: X_train_flat[batch_start:batch_start+BATCH_SIZE], \n",
    "                                             input_y: y_train_oh[batch_start:batch_start+BATCH_SIZE]})\n",
    "        # collect batch losses, this is almost free as we need a forward pass for backprop anyway\n",
    "        batch_losses.append(batch_loss)\n",
    "\n",
    "    train_loss = np.mean(batch_losses)\n",
    "    val_loss = s.run(loss, {input_X: X_val_flat, input_y: y_val_oh})  # this part is usually small\n",
    "    train_accuracy = accuracy_score(y_train, s.run(classes, {input_X: X_train_flat}))  # this is slow and usually skipped\n",
    "    valid_accuracy = accuracy_score(y_val, s.run(classes, {input_X: X_val_flat}))  \n",
    "    simpleTrainingCurves.add(train_loss, val_loss, train_accuracy, valid_accuracy)"
   ]
  },
  {
   "cell_type": "markdown",
   "metadata": {},
   "source": [
    "# Submit a linear model"
   ]
  },
  {
   "cell_type": "code",
   "execution_count": 38,
   "metadata": {
    "collapsed": true
   },
   "outputs": [],
   "source": [
    "## GRADED PART, DO NOT CHANGE!\n",
    "# Testing shapes \n",
    "grader.set_answer(\"9XaAS\", grading_utils.get_tensors_shapes_string([W, b, input_X, input_y, logits, probas, classes]))\n",
    "# Validation loss\n",
    "grader.set_answer(\"vmogZ\", s.run(loss, {input_X: X_val_flat, input_y: y_val_oh}))\n",
    "# Validation accuracy\n",
    "grader.set_answer(\"RMv95\", accuracy_score(y_val, s.run(classes, {input_X: X_val_flat})))"
   ]
  },
  {
   "cell_type": "code",
   "execution_count": 39,
   "metadata": {},
   "outputs": [
    {
     "name": "stdout",
     "output_type": "stream",
     "text": [
      "Submitted to Coursera platform. See results on assignment page!\n"
     ]
    }
   ],
   "source": [
    "# you can make submission with answers so far to check yourself at this stage\n",
    "grader.submit(COURSERA_EMAIL, COURSERA_TOKEN)"
   ]
  },
  {
   "cell_type": "markdown",
   "metadata": {},
   "source": [
    "# Adding more layers"
   ]
  },
  {
   "cell_type": "markdown",
   "metadata": {},
   "source": [
    "Let's add a couple of hidden layers and see how that improves our validation accuracy.\n",
    "\n",
    "Previously we've coded a dense layer with matrix multiplication by hand. \n",
    "But this is not convinient, you have to create a lot of variables and your code becomes a mess. \n",
    "In TensorFlow there's an easier way to make a dense layer:\n",
    "```python\n",
    "hidden1 = tf.layers.dense(inputs, 256, activation=tf.nn.sigmoid)\n",
    "```\n",
    "\n",
    "That will create all the necessary variables automatically.\n",
    "Here you can also choose an activation function (rememeber that we need it for a hidden layer!).\n",
    "\n",
    "Now add 2 hidden layers to the code above and restart training.\n",
    "You're aiming for ~0.97 validation accuracy here."
   ]
  },
  {
   "cell_type": "code",
   "execution_count": 47,
   "metadata": {},
   "outputs": [],
   "source": [
    "# you can write the code here to get a new `step` operation and then run cells with training loop above\n",
    "# name your variables in the same way (e.g. logits, probas, classes, etc) for safety\n",
    "### YOUR CODE HERE ###\n",
    "# Compute predictions\n",
    "hidden1 = tf.layers.dense(inputs=input_X, units=256, activation=tf.nn.sigmoid)\n",
    "hidden2 = tf.layers.dense(inputs=hidden1, units=256, activation=tf.nn.sigmoid)\n",
    "logits = tf.layers.dense(inputs=hidden2, units=10, activation=None)\n",
    "probas = tf.nn.softmax(logits=logits)\n",
    "classes = tf.arg_max(probas, 1)\n",
    "\n",
    "# Loss should be a scalar number: average loss over all the objects with tf.reduce_mean().\n",
    "# Use tf.nn.softmax_cross_entropy_with_logits on top of one-hot encoded input_y and logits.\n",
    "# It is identical to calculating cross-entropy on top of probas, but is more numerically friendly (read the docs).\n",
    "loss = tf.reduce_mean(tf.nn.softmax_cross_entropy_with_logits(logits=logits, labels=input_y))\n",
    "\n",
    "# Use a default tf.train.AdamOptimizer to get an SGD step\n",
    "step = tf.train.AdamOptimizer().minimize(loss)"
   ]
  },
  {
   "cell_type": "markdown",
   "metadata": {},
   "source": [
    "# Submit a 2-layer MLP\n",
    "Run these cells after training a 2-layer MLP"
   ]
  },
  {
   "cell_type": "code",
   "execution_count": 49,
   "metadata": {
    "collapsed": true
   },
   "outputs": [],
   "source": [
    "## GRADED PART, DO NOT CHANGE!\n",
    "# Validation loss for MLP\n",
    "grader.set_answer(\"i8bgs\", s.run(loss, {input_X: X_val_flat, input_y: y_val_oh}))\n",
    "# Validation accuracy for MLP\n",
    "grader.set_answer(\"rE763\", accuracy_score(y_val, s.run(classes, {input_X: X_val_flat})))"
   ]
  },
  {
   "cell_type": "code",
   "execution_count": 50,
   "metadata": {},
   "outputs": [
    {
     "name": "stdout",
     "output_type": "stream",
     "text": [
      "Submitted to Coursera platform. See results on assignment page!\n"
     ]
    }
   ],
   "source": [
    "# you can make submission with answers so far to check yourself at this stage\n",
    "grader.submit(COURSERA_EMAIL, COURSERA_TOKEN)"
   ]
  },
  {
   "cell_type": "code",
   "execution_count": null,
   "metadata": {
    "collapsed": true
   },
   "outputs": [],
   "source": []
  }
 ],
 "metadata": {
  "kernelspec": {
   "display_name": "Python 3",
   "language": "python",
   "name": "python3"
  },
  "language_info": {
   "codemirror_mode": {
    "name": "ipython",
    "version": 3
   },
   "file_extension": ".py",
   "mimetype": "text/x-python",
   "name": "python",
   "nbconvert_exporter": "python",
   "pygments_lexer": "ipython3",
   "version": "3.6.0"
  }
 },
 "nbformat": 4,
 "nbformat_minor": 1
}
